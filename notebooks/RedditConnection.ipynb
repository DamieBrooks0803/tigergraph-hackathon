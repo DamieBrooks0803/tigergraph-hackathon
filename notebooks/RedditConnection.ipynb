{
 "cells": [
  {
   "cell_type": "markdown",
   "id": "21544007-e311-4cd7-893e-033520377adc",
   "metadata": {},
   "source": [
    "# Damie Brooks Tiger Graph 4 All Challenge\n",
    "\n",
    "This workbook will connect to the Tiger Graph Cloud database.\n",
    "Following the calls, we will connect to the database and query for the best suggested Post, Subreddit, or Author that might foster critical thinking.\n",
    "Most calls begin with assuming the end user is looking at a given post, and we may look up based on that Post or the User who wrote it.\n",
    "For simplicity sake, we have selected 3 top most controversial posts listed on Reddit in the last month. \n",
    "\n",
    "This example utilizes Similarity algorithms and Natural Language Processing to add semantic meeting and look for perspectives that may be different.\n",
    "This model can be applied to any User Generated Content such as social media posts on Twitter or reviews on a product website."
   ]
  },
  {
   "cell_type": "markdown",
   "id": "12cf4f7f-e25b-4ae5-ac2f-d75c188d9b0c",
   "metadata": {},
   "source": [
    "# 1) Initialization"
   ]
  },
  {
   "cell_type": "markdown",
   "id": "833b1ad6-a093-4b8c-a90c-e7accdbeb200",
   "metadata": {},
   "source": [
    "__To get started, we will authenticate into the TigerGraph solution__"
   ]
  },
  {
   "cell_type": "code",
   "execution_count": 1,
   "id": "766b9a6e-9a84-4dcd-a4fb-f961ea68df71",
   "metadata": {},
   "outputs": [],
   "source": [
    "#authentication with a token is required to call installed and interpreted queries\n",
    "import pyTigerGraph as tg \n",
    "import cfg\n",
    "server = 'https://dbrooks.i.tgcloud.io'\n",
    "graphname = 'RedditTest'\n",
    "\n",
    "cfg.token = tg.TigerGraphConnection(host=server, graphname=graphname).getToken(cfg.secret, setToken=True, lifetime=None)[0]\n",
    "conn = tg.TigerGraphConnection(host=server, graphname=graphname, password=cfg.password, apiToken=cfg.token)\n"
   ]
  },
  {
   "cell_type": "markdown",
   "id": "00c172f7-e37f-40e7-b001-1eb5f0b4ca93",
   "metadata": {},
   "source": [
    "__Let's understand the schema__"
   ]
  },
  {
   "cell_type": "code",
   "execution_count": null,
   "id": "97e683b3-12e3-43cf-88ac-f284b2ab0886",
   "metadata": {},
   "outputs": [],
   "source": [
    "#this returns the name of the vertex types\n",
    "conn.getVertexTypes()"
   ]
  },
  {
   "cell_type": "code",
   "execution_count": 3,
   "id": "a15c8ddb-ff3f-4cb7-9442-705722d4a878",
   "metadata": {},
   "outputs": [
    {
     "data": {
      "text/plain": [
       "{'Config': {'TAGGABLE': False,\n",
       "  'STATS': 'OUTDEGREE_BY_EDGETYPE',\n",
       "  'PRIMARY_ID_AS_ATTRIBUTE': True},\n",
       " 'Attributes': [{'AttributeType': {'Name': 'STRING'},\n",
       "   'IsPartOfCompositeKey': False,\n",
       "   'PrimaryIdAsAttribute': False,\n",
       "   'AttributeName': 'url',\n",
       "   'HasIndex': False,\n",
       "   'internalAttribute': False,\n",
       "   'IsPrimaryKey': False},\n",
       "  {'AttributeType': {'Name': 'STRING'},\n",
       "   'IsPartOfCompositeKey': False,\n",
       "   'PrimaryIdAsAttribute': False,\n",
       "   'AttributeName': 'bodymood',\n",
       "   'HasIndex': False,\n",
       "   'internalAttribute': False,\n",
       "   'IsPrimaryKey': False},\n",
       "  {'AttributeType': {'Name': 'STRING'},\n",
       "   'IsPartOfCompositeKey': False,\n",
       "   'PrimaryIdAsAttribute': False,\n",
       "   'AttributeName': 'body',\n",
       "   'HasIndex': False,\n",
       "   'internalAttribute': False,\n",
       "   'IsPrimaryKey': False},\n",
       "  {'AttributeType': {'Name': 'STRING'},\n",
       "   'IsPartOfCompositeKey': False,\n",
       "   'PrimaryIdAsAttribute': False,\n",
       "   'AttributeName': 'headline',\n",
       "   'HasIndex': False,\n",
       "   'internalAttribute': False,\n",
       "   'IsPrimaryKey': False}],\n",
       " 'PrimaryId': {'AttributeType': {'Name': 'STRING'},\n",
       "  'IsPartOfCompositeKey': False,\n",
       "  'PrimaryIdAsAttribute': True,\n",
       "  'AttributeName': 'listingid',\n",
       "  'HasIndex': False,\n",
       "  'internalAttribute': False,\n",
       "  'IsPrimaryKey': False},\n",
       " 'Name': 'Post'}"
      ]
     },
     "execution_count": 3,
     "metadata": {},
     "output_type": "execute_result"
    }
   ],
   "source": [
    "#tells us more about the attributes within the vertex Post\n",
    "conn.getVertexType('Post')"
   ]
  },
  {
   "cell_type": "markdown",
   "id": "5b48d563-cb44-41a4-bb3c-5becac98ea67",
   "metadata": {},
   "source": [
    "# 2) Recommendation Queries"
   ]
  },
  {
   "cell_type": "markdown",
   "id": "073dfd49-deaa-4da7-8b5a-9d2d2b1d0480",
   "metadata": {},
   "source": [
    "__Let's begin querying the database__"
   ]
  },
  {
   "cell_type": "code",
   "execution_count": 3,
   "id": "17cd90d4-c24e-4c01-8954-b0db58fa4547",
   "metadata": {},
   "outputs": [
    {
     "data": {
      "text/html": [
       "<div>\n",
       "<style scoped>\n",
       "    .dataframe tbody tr th:only-of-type {\n",
       "        vertical-align: middle;\n",
       "    }\n",
       "\n",
       "    .dataframe tbody tr th {\n",
       "        vertical-align: top;\n",
       "    }\n",
       "\n",
       "    .dataframe thead th {\n",
       "        text-align: right;\n",
       "    }\n",
       "</style>\n",
       "<table border=\"1\" class=\"dataframe\">\n",
       "  <thead>\n",
       "    <tr style=\"text-align: right;\">\n",
       "      <th></th>\n",
       "      <th>listingid</th>\n",
       "      <th>url</th>\n",
       "      <th>headline</th>\n",
       "    </tr>\n",
       "  </thead>\n",
       "  <tbody>\n",
       "    <tr>\n",
       "      <th>EveryonewasfordecentralisationuntilRussiawantedtosellGasforbitcoinnowpeoplearoundthissubarecryingaboutitwithcommentslikeIwouldratherlosemoneyandthepricetanksthanRussiamakingmoneyfromBitcoin_CryptoCurrency</th>\n",
       "      <td>EveryonewasfordecentralisationuntilRussiawante...</td>\n",
       "      <td>/r/CryptoCurrency/comments/tniwhf/everyone_was...</td>\n",
       "      <td>Everyone was for decentralisation until Russia...</td>\n",
       "    </tr>\n",
       "    <tr>\n",
       "      <th>IunderestimatedCryptoReddit_CryptoCurrency</th>\n",
       "      <td>IunderestimatedCryptoReddit_CryptoCurrency</td>\n",
       "      <td>/r/CryptoCurrency/comments/sw0y2d/i_underestim...</td>\n",
       "      <td>I underestimated Crypto Reddit</td>\n",
       "    </tr>\n",
       "    <tr>\n",
       "      <th>CardanoFUDnolongerhasanyteeth_CryptoCurrency</th>\n",
       "      <td>CardanoFUDnolongerhasanyteeth_CryptoCurrency</td>\n",
       "      <td>/r/CryptoCurrency/comments/tmqduc/cardano_fud_...</td>\n",
       "      <td>Cardano FUD no longer has any teeth</td>\n",
       "    </tr>\n",
       "    <tr>\n",
       "      <th>AbandonyourshitcoinsatthenextBTCATH_CryptoCurrency</th>\n",
       "      <td>AbandonyourshitcoinsatthenextBTCATH_CryptoCurr...</td>\n",
       "      <td>/r/CryptoCurrency/comments/trtmxz/abandon_your...</td>\n",
       "      <td>Abandon your shitcoins at the next BTC ATH</td>\n",
       "    </tr>\n",
       "    <tr>\n",
       "      <th>TheworldshouldcutRussiaofffromSWIFTandcryptobycuttinginternetaccessCantturntocryptoiftheycantaccesstheinternet_CryptoCurrency</th>\n",
       "      <td>TheworldshouldcutRussiaofffromSWIFTandcryptoby...</td>\n",
       "      <td>/r/CryptoCurrency/comments/t049ia/the_world_sh...</td>\n",
       "      <td>The world should cut Russia off from SWIFT and...</td>\n",
       "    </tr>\n",
       "  </tbody>\n",
       "</table>\n",
       "</div>"
      ],
      "text/plain": [
       "                                                                                            listingid  \\\n",
       "EveryonewasfordecentralisationuntilRussiawanted...  EveryonewasfordecentralisationuntilRussiawante...   \n",
       "IunderestimatedCryptoReddit_CryptoCurrency                 IunderestimatedCryptoReddit_CryptoCurrency   \n",
       "CardanoFUDnolongerhasanyteeth_CryptoCurrency             CardanoFUDnolongerhasanyteeth_CryptoCurrency   \n",
       "AbandonyourshitcoinsatthenextBTCATH_CryptoCurrency  AbandonyourshitcoinsatthenextBTCATH_CryptoCurr...   \n",
       "TheworldshouldcutRussiaofffromSWIFTandcryptobyc...  TheworldshouldcutRussiaofffromSWIFTandcryptoby...   \n",
       "\n",
       "                                                                                                  url  \\\n",
       "EveryonewasfordecentralisationuntilRussiawanted...  /r/CryptoCurrency/comments/tniwhf/everyone_was...   \n",
       "IunderestimatedCryptoReddit_CryptoCurrency          /r/CryptoCurrency/comments/sw0y2d/i_underestim...   \n",
       "CardanoFUDnolongerhasanyteeth_CryptoCurrency        /r/CryptoCurrency/comments/tmqduc/cardano_fud_...   \n",
       "AbandonyourshitcoinsatthenextBTCATH_CryptoCurrency  /r/CryptoCurrency/comments/trtmxz/abandon_your...   \n",
       "TheworldshouldcutRussiaofffromSWIFTandcryptobyc...  /r/CryptoCurrency/comments/t049ia/the_world_sh...   \n",
       "\n",
       "                                                                                             headline  \n",
       "EveryonewasfordecentralisationuntilRussiawanted...  Everyone was for decentralisation until Russia...  \n",
       "IunderestimatedCryptoReddit_CryptoCurrency                             I underestimated Crypto Reddit  \n",
       "CardanoFUDnolongerhasanyteeth_CryptoCurrency                      Cardano FUD no longer has any teeth  \n",
       "AbandonyourshitcoinsatthenextBTCATH_CryptoCurrency        Abandon your shitcoins at the next BTC ATH   \n",
       "TheworldshouldcutRussiaofffromSWIFTandcryptobyc...  The world should cut Russia off from SWIFT and...  "
      ]
     },
     "execution_count": 3,
     "metadata": {},
     "output_type": "execute_result"
    }
   ],
   "source": [
    "##given a specific post by listingid, this query looks for top engaging posts similar to that post but polarizing to the reddit community\n",
    "import pandas as pd\n",
    "controversialperspective = conn.runInstalledQuery(\"Q1controversial\", {\"p\":\"IdgafImleavingmycoinsonanexchangewhereitisinsuredToomanyscamsouttherethatevencryptovetsarefallingfor_CryptoCurrency\"})\n",
    "controversialperspective[0]\n",
    "newresult3 = controversialperspective[0]['TopPolarizing']\n",
    "polsDataframe = pd.DataFrame(newresult3)\n",
    "myDict = {}\n",
    "#iterate through and populate the attributes stored from the installed query\n",
    "for i in polsDataframe.index: \n",
    "    myDict[polsDataframe['v_id'][i]] = {\n",
    "        'listingid': polsDataframe['v_id'][i],\n",
    "        #'attributes': polsDataframe['attributes'][i],\n",
    "        'url': polsDataframe['attributes'][i]['url'],\n",
    "        'headline': polsDataframe['attributes'][i]['headline']\n",
    "    }   \n",
    "#we can use this set of results to display in our app for alternative views\n",
    "df = pd.DataFrame.from_dict(myDict, orient='index')\n",
    "df"
   ]
  },
  {
   "cell_type": "code",
   "execution_count": 4,
   "id": "2f9e1c3a-3015-4067-b6a7-6d4189f270ba",
   "metadata": {},
   "outputs": [
    {
     "data": {
      "text/html": [
       "<div>\n",
       "<style scoped>\n",
       "    .dataframe tbody tr th:only-of-type {\n",
       "        vertical-align: middle;\n",
       "    }\n",
       "\n",
       "    .dataframe tbody tr th {\n",
       "        vertical-align: top;\n",
       "    }\n",
       "\n",
       "    .dataframe thead th {\n",
       "        text-align: right;\n",
       "    }\n",
       "</style>\n",
       "<table border=\"1\" class=\"dataframe\">\n",
       "  <thead>\n",
       "    <tr style=\"text-align: right;\">\n",
       "      <th></th>\n",
       "      <th>listingid</th>\n",
       "      <th>attributes</th>\n",
       "    </tr>\n",
       "  </thead>\n",
       "  <tbody>\n",
       "    <tr>\n",
       "      <th>DailyDiscussionMarch212022GMT0_CryptoCurrency</th>\n",
       "      <td>DailyDiscussionMarch212022GMT0_CryptoCurrency</td>\n",
       "      <td>{'listingid': 'DailyDiscussionMarch212022GMT0_...</td>\n",
       "    </tr>\n",
       "    <tr>\n",
       "      <th>MyfirstdipincryptoAnytipsandtricksIshouldlookoutfor_CryptoCurrency</th>\n",
       "      <td>MyfirstdipincryptoAnytipsandtricksIshouldlooko...</td>\n",
       "      <td>{'listingid': 'MyfirstdipincryptoAnytipsandtri...</td>\n",
       "    </tr>\n",
       "    <tr>\n",
       "      <th>Howcryptoandblockchainprojectsaredrivingforwardaneweraoftech_CryptoCurrency</th>\n",
       "      <td>Howcryptoandblockchainprojectsaredrivingforwar...</td>\n",
       "      <td>{'listingid': 'Howcryptoandblockchainprojectsa...</td>\n",
       "    </tr>\n",
       "    <tr>\n",
       "      <th>NighmtarewithKraken_CryptoCurrency</th>\n",
       "      <td>NighmtarewithKraken_CryptoCurrency</td>\n",
       "      <td>{'listingid': 'NighmtarewithKraken_CryptoCurre...</td>\n",
       "    </tr>\n",
       "    <tr>\n",
       "      <th>CannewinnovativecoinsonlytrulygrowduringabullrunAndifsoisthecurrentcryptoclimatesustainable_CryptoCurrency</th>\n",
       "      <td>Cannewinnovativecoinsonlytrulygrowduringabullr...</td>\n",
       "      <td>{'listingid': 'Cannewinnovativecoinsonlytrulyg...</td>\n",
       "    </tr>\n",
       "  </tbody>\n",
       "</table>\n",
       "</div>"
      ],
      "text/plain": [
       "                                                                                            listingid  \\\n",
       "DailyDiscussionMarch212022GMT0_CryptoCurrency           DailyDiscussionMarch212022GMT0_CryptoCurrency   \n",
       "MyfirstdipincryptoAnytipsandtricksIshouldlookou...  MyfirstdipincryptoAnytipsandtricksIshouldlooko...   \n",
       "Howcryptoandblockchainprojectsaredrivingforward...  Howcryptoandblockchainprojectsaredrivingforwar...   \n",
       "NighmtarewithKraken_CryptoCurrency                                 NighmtarewithKraken_CryptoCurrency   \n",
       "Cannewinnovativecoinsonlytrulygrowduringabullru...  Cannewinnovativecoinsonlytrulygrowduringabullr...   \n",
       "\n",
       "                                                                                           attributes  \n",
       "DailyDiscussionMarch212022GMT0_CryptoCurrency       {'listingid': 'DailyDiscussionMarch212022GMT0_...  \n",
       "MyfirstdipincryptoAnytipsandtricksIshouldlookou...  {'listingid': 'MyfirstdipincryptoAnytipsandtri...  \n",
       "Howcryptoandblockchainprojectsaredrivingforward...  {'listingid': 'Howcryptoandblockchainprojectsa...  \n",
       "NighmtarewithKraken_CryptoCurrency                  {'listingid': 'NighmtarewithKraken_CryptoCurre...  \n",
       "Cannewinnovativecoinsonlytrulygrowduringabullru...  {'listingid': 'Cannewinnovativecoinsonlytrulyg...  "
      ]
     },
     "execution_count": 4,
     "metadata": {},
     "output_type": "execute_result"
    }
   ],
   "source": [
    "##given a specific post by listingid, this query looks for similar posts that are considered new \n",
    "import pandas as pd\n",
    "simNewPosts = conn.runInstalledQuery(\"Q2new\", {\"p\":\"IdgafImleavingmycoinsonanexchangewhereitisinsuredToomanyscamsouttherethatevencryptovetsarefallingfor_CryptoCurrency\"})\n",
    "#differentFeeling[0]\n",
    "#differentFeeling\n",
    "newresult2 = simNewPosts[0]['TopEngagingNew']\n",
    "simsDataframe = pd.DataFrame(newresult2)\n",
    "myDict = {}\n",
    "#iterate through and populate the attributes stored from the installed query\n",
    "for i in simsDataframe.index: \n",
    "    myDict[simsDataframe['v_id'][i]] = {\n",
    "        'listingid': simsDataframe['v_id'][i],\n",
    "        'attributes': simsDataframe['attributes'][i]\n",
    "    }\n",
    "df = pd.DataFrame.from_dict(myDict, orient='index')\n",
    "df"
   ]
  },
  {
   "cell_type": "code",
   "execution_count": 5,
   "id": "cbbc3204-c9b5-4083-b91f-478f33990c4f",
   "metadata": {
    "tags": []
   },
   "outputs": [
    {
     "data": {
      "text/html": [
       "<div>\n",
       "<style scoped>\n",
       "    .dataframe tbody tr th:only-of-type {\n",
       "        vertical-align: middle;\n",
       "    }\n",
       "\n",
       "    .dataframe tbody tr th {\n",
       "        vertical-align: top;\n",
       "    }\n",
       "\n",
       "    .dataframe thead th {\n",
       "        text-align: right;\n",
       "    }\n",
       "</style>\n",
       "<table border=\"1\" class=\"dataframe\">\n",
       "  <thead>\n",
       "    <tr style=\"text-align: right;\">\n",
       "      <th></th>\n",
       "      <th>listingid</th>\n",
       "      <th>attributes</th>\n",
       "      <th>url</th>\n",
       "      <th>headline</th>\n",
       "      <th>numcomments</th>\n",
       "      <th>sentiment</th>\n",
       "    </tr>\n",
       "  </thead>\n",
       "  <tbody>\n",
       "    <tr>\n",
       "      <th>NanoisinfacttoogoodtobetruePleasedonttellyourlovedonestobuyitBlaringsecurityflawsandotherissuesinsidethisthread_CryptoCurrency</th>\n",
       "      <td>NanoisinfacttoogoodtobetruePleasedonttellyourl...</td>\n",
       "      <td>{'listingid': 'NanoisinfacttoogoodtobetruePlea...</td>\n",
       "      <td>/r/CryptoCurrency/comments/tpdyv8/nano_is_in_f...</td>\n",
       "      <td>Nano is  in fact  too good to be true  Please ...</td>\n",
       "      <td>315</td>\n",
       "      <td>Positive</td>\n",
       "    </tr>\n",
       "    <tr>\n",
       "      <th>Whyisnoonetalkingaboutthat1DEXthatturnedoffitssmartcontractsforover48hoursforunexpectedmaintenanceandunilaterallymigrateditsusersfundstoanewsmartcontractNoneofthatshouldbepossibleonadecentralizedapp_CryptoCurrency</th>\n",
       "      <td>Whyisnoonetalkingaboutthat1DEXthatturnedoffits...</td>\n",
       "      <td>{'listingid': 'Whyisnoonetalkingaboutthat1DEXt...</td>\n",
       "      <td>/r/CryptoCurrency/comments/tmzn47/why_is_no_on...</td>\n",
       "      <td>Why is no one talking about that  1  DEX  that...</td>\n",
       "      <td>315</td>\n",
       "      <td>Positive</td>\n",
       "    </tr>\n",
       "    <tr>\n",
       "      <th>ShibaInujustannouncedcreationofitsownmetaverse_CryptoCurrency</th>\n",
       "      <td>ShibaInujustannouncedcreationofitsownmetaverse...</td>\n",
       "      <td>{'listingid': 'ShibaInujustannouncedcreationof...</td>\n",
       "      <td>/r/CryptoCurrency/comments/tsjis3/shiba_inu_ju...</td>\n",
       "      <td>Shiba Inu just announced creation of its own m...</td>\n",
       "      <td>211</td>\n",
       "      <td>Positive</td>\n",
       "    </tr>\n",
       "    <tr>\n",
       "      <th>SayingBitcoinwontdoa100xisntFUDitsjustbeingrealistic_CryptoCurrency</th>\n",
       "      <td>SayingBitcoinwontdoa100xisntFUDitsjustbeingrea...</td>\n",
       "      <td>{'listingid': 'SayingBitcoinwontdoa100xisntFUD...</td>\n",
       "      <td>/r/CryptoCurrency/comments/t92nmp/saying_bitco...</td>\n",
       "      <td>Saying  Bitcoin won t do a 100x  isnt FUD  it ...</td>\n",
       "      <td>194</td>\n",
       "      <td>Positive</td>\n",
       "    </tr>\n",
       "    <tr>\n",
       "      <th>AlexBornyakovUkrainesdeputyministerofdigitaltransformationthenationalbankisnotfullyoperatingcryptoishelpingtoperformfasttransferstomakeitveryquickandgetresultsalmostimmediatelyCryptosroleisessentialinthisconflictintermsofhelpingourarmy_CryptoCurrency</th>\n",
       "      <td>AlexBornyakovUkrainesdeputyministerofdigitaltr...</td>\n",
       "      <td>{'listingid': 'AlexBornyakovUkrainesdeputymini...</td>\n",
       "      <td>/r/CryptoCurrency/comments/tedkmi/alex_bornyak...</td>\n",
       "      <td>Alex Bornyakov  Ukraine s deputy minister of d...</td>\n",
       "      <td>144</td>\n",
       "      <td>Positive</td>\n",
       "    </tr>\n",
       "  </tbody>\n",
       "</table>\n",
       "</div>"
      ],
      "text/plain": [
       "                                                                                            listingid  \\\n",
       "NanoisinfacttoogoodtobetruePleasedonttellyourlo...  NanoisinfacttoogoodtobetruePleasedonttellyourl...   \n",
       "Whyisnoonetalkingaboutthat1DEXthatturnedoffitss...  Whyisnoonetalkingaboutthat1DEXthatturnedoffits...   \n",
       "ShibaInujustannouncedcreationofitsownmetaverse_...  ShibaInujustannouncedcreationofitsownmetaverse...   \n",
       "SayingBitcoinwontdoa100xisntFUDitsjustbeingreal...  SayingBitcoinwontdoa100xisntFUDitsjustbeingrea...   \n",
       "AlexBornyakovUkrainesdeputyministerofdigitaltra...  AlexBornyakovUkrainesdeputyministerofdigitaltr...   \n",
       "\n",
       "                                                                                           attributes  \\\n",
       "NanoisinfacttoogoodtobetruePleasedonttellyourlo...  {'listingid': 'NanoisinfacttoogoodtobetruePlea...   \n",
       "Whyisnoonetalkingaboutthat1DEXthatturnedoffitss...  {'listingid': 'Whyisnoonetalkingaboutthat1DEXt...   \n",
       "ShibaInujustannouncedcreationofitsownmetaverse_...  {'listingid': 'ShibaInujustannouncedcreationof...   \n",
       "SayingBitcoinwontdoa100xisntFUDitsjustbeingreal...  {'listingid': 'SayingBitcoinwontdoa100xisntFUD...   \n",
       "AlexBornyakovUkrainesdeputyministerofdigitaltra...  {'listingid': 'AlexBornyakovUkrainesdeputymini...   \n",
       "\n",
       "                                                                                                  url  \\\n",
       "NanoisinfacttoogoodtobetruePleasedonttellyourlo...  /r/CryptoCurrency/comments/tpdyv8/nano_is_in_f...   \n",
       "Whyisnoonetalkingaboutthat1DEXthatturnedoffitss...  /r/CryptoCurrency/comments/tmzn47/why_is_no_on...   \n",
       "ShibaInujustannouncedcreationofitsownmetaverse_...  /r/CryptoCurrency/comments/tsjis3/shiba_inu_ju...   \n",
       "SayingBitcoinwontdoa100xisntFUDitsjustbeingreal...  /r/CryptoCurrency/comments/t92nmp/saying_bitco...   \n",
       "AlexBornyakovUkrainesdeputyministerofdigitaltra...  /r/CryptoCurrency/comments/tedkmi/alex_bornyak...   \n",
       "\n",
       "                                                                                             headline  \\\n",
       "NanoisinfacttoogoodtobetruePleasedonttellyourlo...  Nano is  in fact  too good to be true  Please ...   \n",
       "Whyisnoonetalkingaboutthat1DEXthatturnedoffitss...  Why is no one talking about that  1  DEX  that...   \n",
       "ShibaInujustannouncedcreationofitsownmetaverse_...  Shiba Inu just announced creation of its own m...   \n",
       "SayingBitcoinwontdoa100xisntFUDitsjustbeingreal...  Saying  Bitcoin won t do a 100x  isnt FUD  it ...   \n",
       "AlexBornyakovUkrainesdeputyministerofdigitaltra...  Alex Bornyakov  Ukraine s deputy minister of d...   \n",
       "\n",
       "                                                    numcomments sentiment  \n",
       "NanoisinfacttoogoodtobetruePleasedonttellyourlo...          315  Positive  \n",
       "Whyisnoonetalkingaboutthat1DEXthatturnedoffitss...          315  Positive  \n",
       "ShibaInujustannouncedcreationofitsownmetaverse_...          211  Positive  \n",
       "SayingBitcoinwontdoa100xisntFUDitsjustbeingreal...          194  Positive  \n",
       "AlexBornyakovUkrainesdeputyministerofdigitaltra...          144  Positive  "
      ]
     },
     "execution_count": 5,
     "metadata": {},
     "output_type": "execute_result"
    }
   ],
   "source": [
    "##given a specific post by listingid, this query looks for top engaging posts similar to that post but have a different feeling (gauged by sentiment)\n",
    "differentFeeling = conn.runInstalledQuery(\"Q3sentiment\", {\"p\":\"IdgafImleavingmycoinsonanexchangewhereitisinsuredToomanyscamsouttherethatevencryptovetsarefallingfor_CryptoCurrency\"})\n",
    "#differentFeeling[0]\n",
    "#differentFeeling\n",
    "newresult2 = differentFeeling[0]['SimsPosts']\n",
    "simsDataframe = pd.DataFrame(newresult2)\n",
    "myDict = {}\n",
    "#iterate through and populate the attributes stored from the installed query\n",
    "for i in simsDataframe.index: \n",
    "    myDict[simsDataframe['v_id'][i]] = {\n",
    "        'listingid': simsDataframe['v_id'][i],\n",
    "        'attributes': simsDataframe['attributes'][i],\n",
    "        'url': simsDataframe['attributes'][i]['url'],\n",
    "        'headline': simsDataframe['attributes'][i]['headline'],\n",
    "        'numcomments': simsDataframe['attributes'][i]['@engagementscore'],\n",
    "        'sentiment': simsDataframe['attributes'][i]['@moodtype']\n",
    "    }   \n",
    "#we can use this set of results to display in our app for alternative views\n",
    "df = pd.DataFrame.from_dict(myDict, orient='index')\n",
    "df"
   ]
  },
  {
   "cell_type": "markdown",
   "id": "9961f433-2d23-4edf-ad37-a7964f4be577",
   "metadata": {},
   "source": [
    "# 3) Analysis and Visuazlations"
   ]
  },
  {
   "cell_type": "code",
   "execution_count": 6,
   "id": "2c8fb70a-a138-40a8-959a-883ea6a356e5",
   "metadata": {},
   "outputs": [
    {
     "data": {
      "application/vnd.plotly.v1+json": {
       "config": {
        "plotlyServerURL": "https://plot.ly"
       },
       "data": [
        {
         "alignmentgroup": "True",
         "hovertemplate": "subreddit_name=%{x}<br>num_comments=%{y}<extra></extra>",
         "legendgroup": "",
         "marker": {
          "color": "#636efa",
          "pattern": {
           "shape": ""
          }
         },
         "name": "",
         "offsetgroup": "",
         "orientation": "v",
         "showlegend": false,
         "textposition": "auto",
         "type": "bar",
         "x": [
          "AskReddit",
          "worldnews",
          "place",
          "Eldenring",
          "unpopularopinion",
          "ukraine",
          "politics",
          "mildlyinfuriating",
          "Superstonk",
          "Cringetopia"
         ],
         "xaxis": "x",
         "y": [
          282003,
          126865,
          66880,
          61327,
          57705,
          56285,
          53313,
          53050,
          49508,
          48911
         ],
         "yaxis": "y"
        }
       ],
       "layout": {
        "autosize": true,
        "barmode": "relative",
        "legend": {
         "tracegroupgap": 0
        },
        "margin": {
         "t": 60
        },
        "template": {
         "data": {
          "bar": [
           {
            "error_x": {
             "color": "#2a3f5f"
            },
            "error_y": {
             "color": "#2a3f5f"
            },
            "marker": {
             "line": {
              "color": "#E5ECF6",
              "width": 0.5
             },
             "pattern": {
              "fillmode": "overlay",
              "size": 10,
              "solidity": 0.2
             }
            },
            "type": "bar"
           }
          ],
          "barpolar": [
           {
            "marker": {
             "line": {
              "color": "#E5ECF6",
              "width": 0.5
             },
             "pattern": {
              "fillmode": "overlay",
              "size": 10,
              "solidity": 0.2
             }
            },
            "type": "barpolar"
           }
          ],
          "carpet": [
           {
            "aaxis": {
             "endlinecolor": "#2a3f5f",
             "gridcolor": "white",
             "linecolor": "white",
             "minorgridcolor": "white",
             "startlinecolor": "#2a3f5f"
            },
            "baxis": {
             "endlinecolor": "#2a3f5f",
             "gridcolor": "white",
             "linecolor": "white",
             "minorgridcolor": "white",
             "startlinecolor": "#2a3f5f"
            },
            "type": "carpet"
           }
          ],
          "choropleth": [
           {
            "colorbar": {
             "outlinewidth": 0,
             "ticks": ""
            },
            "type": "choropleth"
           }
          ],
          "contour": [
           {
            "colorbar": {
             "outlinewidth": 0,
             "ticks": ""
            },
            "colorscale": [
             [
              0,
              "#0d0887"
             ],
             [
              0.1111111111111111,
              "#46039f"
             ],
             [
              0.2222222222222222,
              "#7201a8"
             ],
             [
              0.3333333333333333,
              "#9c179e"
             ],
             [
              0.4444444444444444,
              "#bd3786"
             ],
             [
              0.5555555555555556,
              "#d8576b"
             ],
             [
              0.6666666666666666,
              "#ed7953"
             ],
             [
              0.7777777777777778,
              "#fb9f3a"
             ],
             [
              0.8888888888888888,
              "#fdca26"
             ],
             [
              1,
              "#f0f921"
             ]
            ],
            "type": "contour"
           }
          ],
          "contourcarpet": [
           {
            "colorbar": {
             "outlinewidth": 0,
             "ticks": ""
            },
            "type": "contourcarpet"
           }
          ],
          "heatmap": [
           {
            "colorbar": {
             "outlinewidth": 0,
             "ticks": ""
            },
            "colorscale": [
             [
              0,
              "#0d0887"
             ],
             [
              0.1111111111111111,
              "#46039f"
             ],
             [
              0.2222222222222222,
              "#7201a8"
             ],
             [
              0.3333333333333333,
              "#9c179e"
             ],
             [
              0.4444444444444444,
              "#bd3786"
             ],
             [
              0.5555555555555556,
              "#d8576b"
             ],
             [
              0.6666666666666666,
              "#ed7953"
             ],
             [
              0.7777777777777778,
              "#fb9f3a"
             ],
             [
              0.8888888888888888,
              "#fdca26"
             ],
             [
              1,
              "#f0f921"
             ]
            ],
            "type": "heatmap"
           }
          ],
          "heatmapgl": [
           {
            "colorbar": {
             "outlinewidth": 0,
             "ticks": ""
            },
            "colorscale": [
             [
              0,
              "#0d0887"
             ],
             [
              0.1111111111111111,
              "#46039f"
             ],
             [
              0.2222222222222222,
              "#7201a8"
             ],
             [
              0.3333333333333333,
              "#9c179e"
             ],
             [
              0.4444444444444444,
              "#bd3786"
             ],
             [
              0.5555555555555556,
              "#d8576b"
             ],
             [
              0.6666666666666666,
              "#ed7953"
             ],
             [
              0.7777777777777778,
              "#fb9f3a"
             ],
             [
              0.8888888888888888,
              "#fdca26"
             ],
             [
              1,
              "#f0f921"
             ]
            ],
            "type": "heatmapgl"
           }
          ],
          "histogram": [
           {
            "marker": {
             "pattern": {
              "fillmode": "overlay",
              "size": 10,
              "solidity": 0.2
             }
            },
            "type": "histogram"
           }
          ],
          "histogram2d": [
           {
            "colorbar": {
             "outlinewidth": 0,
             "ticks": ""
            },
            "colorscale": [
             [
              0,
              "#0d0887"
             ],
             [
              0.1111111111111111,
              "#46039f"
             ],
             [
              0.2222222222222222,
              "#7201a8"
             ],
             [
              0.3333333333333333,
              "#9c179e"
             ],
             [
              0.4444444444444444,
              "#bd3786"
             ],
             [
              0.5555555555555556,
              "#d8576b"
             ],
             [
              0.6666666666666666,
              "#ed7953"
             ],
             [
              0.7777777777777778,
              "#fb9f3a"
             ],
             [
              0.8888888888888888,
              "#fdca26"
             ],
             [
              1,
              "#f0f921"
             ]
            ],
            "type": "histogram2d"
           }
          ],
          "histogram2dcontour": [
           {
            "colorbar": {
             "outlinewidth": 0,
             "ticks": ""
            },
            "colorscale": [
             [
              0,
              "#0d0887"
             ],
             [
              0.1111111111111111,
              "#46039f"
             ],
             [
              0.2222222222222222,
              "#7201a8"
             ],
             [
              0.3333333333333333,
              "#9c179e"
             ],
             [
              0.4444444444444444,
              "#bd3786"
             ],
             [
              0.5555555555555556,
              "#d8576b"
             ],
             [
              0.6666666666666666,
              "#ed7953"
             ],
             [
              0.7777777777777778,
              "#fb9f3a"
             ],
             [
              0.8888888888888888,
              "#fdca26"
             ],
             [
              1,
              "#f0f921"
             ]
            ],
            "type": "histogram2dcontour"
           }
          ],
          "mesh3d": [
           {
            "colorbar": {
             "outlinewidth": 0,
             "ticks": ""
            },
            "type": "mesh3d"
           }
          ],
          "parcoords": [
           {
            "line": {
             "colorbar": {
              "outlinewidth": 0,
              "ticks": ""
             }
            },
            "type": "parcoords"
           }
          ],
          "pie": [
           {
            "automargin": true,
            "type": "pie"
           }
          ],
          "scatter": [
           {
            "marker": {
             "colorbar": {
              "outlinewidth": 0,
              "ticks": ""
             }
            },
            "type": "scatter"
           }
          ],
          "scatter3d": [
           {
            "line": {
             "colorbar": {
              "outlinewidth": 0,
              "ticks": ""
             }
            },
            "marker": {
             "colorbar": {
              "outlinewidth": 0,
              "ticks": ""
             }
            },
            "type": "scatter3d"
           }
          ],
          "scattercarpet": [
           {
            "marker": {
             "colorbar": {
              "outlinewidth": 0,
              "ticks": ""
             }
            },
            "type": "scattercarpet"
           }
          ],
          "scattergeo": [
           {
            "marker": {
             "colorbar": {
              "outlinewidth": 0,
              "ticks": ""
             }
            },
            "type": "scattergeo"
           }
          ],
          "scattergl": [
           {
            "marker": {
             "colorbar": {
              "outlinewidth": 0,
              "ticks": ""
             }
            },
            "type": "scattergl"
           }
          ],
          "scattermapbox": [
           {
            "marker": {
             "colorbar": {
              "outlinewidth": 0,
              "ticks": ""
             }
            },
            "type": "scattermapbox"
           }
          ],
          "scatterpolar": [
           {
            "marker": {
             "colorbar": {
              "outlinewidth": 0,
              "ticks": ""
             }
            },
            "type": "scatterpolar"
           }
          ],
          "scatterpolargl": [
           {
            "marker": {
             "colorbar": {
              "outlinewidth": 0,
              "ticks": ""
             }
            },
            "type": "scatterpolargl"
           }
          ],
          "scatterternary": [
           {
            "marker": {
             "colorbar": {
              "outlinewidth": 0,
              "ticks": ""
             }
            },
            "type": "scatterternary"
           }
          ],
          "surface": [
           {
            "colorbar": {
             "outlinewidth": 0,
             "ticks": ""
            },
            "colorscale": [
             [
              0,
              "#0d0887"
             ],
             [
              0.1111111111111111,
              "#46039f"
             ],
             [
              0.2222222222222222,
              "#7201a8"
             ],
             [
              0.3333333333333333,
              "#9c179e"
             ],
             [
              0.4444444444444444,
              "#bd3786"
             ],
             [
              0.5555555555555556,
              "#d8576b"
             ],
             [
              0.6666666666666666,
              "#ed7953"
             ],
             [
              0.7777777777777778,
              "#fb9f3a"
             ],
             [
              0.8888888888888888,
              "#fdca26"
             ],
             [
              1,
              "#f0f921"
             ]
            ],
            "type": "surface"
           }
          ],
          "table": [
           {
            "cells": {
             "fill": {
              "color": "#EBF0F8"
             },
             "line": {
              "color": "white"
             }
            },
            "header": {
             "fill": {
              "color": "#C8D4E3"
             },
             "line": {
              "color": "white"
             }
            },
            "type": "table"
           }
          ]
         },
         "layout": {
          "annotationdefaults": {
           "arrowcolor": "#2a3f5f",
           "arrowhead": 0,
           "arrowwidth": 1
          },
          "autotypenumbers": "strict",
          "coloraxis": {
           "colorbar": {
            "outlinewidth": 0,
            "ticks": ""
           }
          },
          "colorscale": {
           "diverging": [
            [
             0,
             "#8e0152"
            ],
            [
             0.1,
             "#c51b7d"
            ],
            [
             0.2,
             "#de77ae"
            ],
            [
             0.3,
             "#f1b6da"
            ],
            [
             0.4,
             "#fde0ef"
            ],
            [
             0.5,
             "#f7f7f7"
            ],
            [
             0.6,
             "#e6f5d0"
            ],
            [
             0.7,
             "#b8e186"
            ],
            [
             0.8,
             "#7fbc41"
            ],
            [
             0.9,
             "#4d9221"
            ],
            [
             1,
             "#276419"
            ]
           ],
           "sequential": [
            [
             0,
             "#0d0887"
            ],
            [
             0.1111111111111111,
             "#46039f"
            ],
            [
             0.2222222222222222,
             "#7201a8"
            ],
            [
             0.3333333333333333,
             "#9c179e"
            ],
            [
             0.4444444444444444,
             "#bd3786"
            ],
            [
             0.5555555555555556,
             "#d8576b"
            ],
            [
             0.6666666666666666,
             "#ed7953"
            ],
            [
             0.7777777777777778,
             "#fb9f3a"
            ],
            [
             0.8888888888888888,
             "#fdca26"
            ],
            [
             1,
             "#f0f921"
            ]
           ],
           "sequentialminus": [
            [
             0,
             "#0d0887"
            ],
            [
             0.1111111111111111,
             "#46039f"
            ],
            [
             0.2222222222222222,
             "#7201a8"
            ],
            [
             0.3333333333333333,
             "#9c179e"
            ],
            [
             0.4444444444444444,
             "#bd3786"
            ],
            [
             0.5555555555555556,
             "#d8576b"
            ],
            [
             0.6666666666666666,
             "#ed7953"
            ],
            [
             0.7777777777777778,
             "#fb9f3a"
            ],
            [
             0.8888888888888888,
             "#fdca26"
            ],
            [
             1,
             "#f0f921"
            ]
           ]
          },
          "colorway": [
           "#636efa",
           "#EF553B",
           "#00cc96",
           "#ab63fa",
           "#FFA15A",
           "#19d3f3",
           "#FF6692",
           "#B6E880",
           "#FF97FF",
           "#FECB52"
          ],
          "font": {
           "color": "#2a3f5f"
          },
          "geo": {
           "bgcolor": "white",
           "lakecolor": "white",
           "landcolor": "#E5ECF6",
           "showlakes": true,
           "showland": true,
           "subunitcolor": "white"
          },
          "hoverlabel": {
           "align": "left"
          },
          "hovermode": "closest",
          "mapbox": {
           "style": "light"
          },
          "paper_bgcolor": "white",
          "plot_bgcolor": "#E5ECF6",
          "polar": {
           "angularaxis": {
            "gridcolor": "white",
            "linecolor": "white",
            "ticks": ""
           },
           "bgcolor": "#E5ECF6",
           "radialaxis": {
            "gridcolor": "white",
            "linecolor": "white",
            "ticks": ""
           }
          },
          "scene": {
           "xaxis": {
            "backgroundcolor": "#E5ECF6",
            "gridcolor": "white",
            "gridwidth": 2,
            "linecolor": "white",
            "showbackground": true,
            "ticks": "",
            "zerolinecolor": "white"
           },
           "yaxis": {
            "backgroundcolor": "#E5ECF6",
            "gridcolor": "white",
            "gridwidth": 2,
            "linecolor": "white",
            "showbackground": true,
            "ticks": "",
            "zerolinecolor": "white"
           },
           "zaxis": {
            "backgroundcolor": "#E5ECF6",
            "gridcolor": "white",
            "gridwidth": 2,
            "linecolor": "white",
            "showbackground": true,
            "ticks": "",
            "zerolinecolor": "white"
           }
          },
          "shapedefaults": {
           "line": {
            "color": "#2a3f5f"
           }
          },
          "ternary": {
           "aaxis": {
            "gridcolor": "white",
            "linecolor": "white",
            "ticks": ""
           },
           "baxis": {
            "gridcolor": "white",
            "linecolor": "white",
            "ticks": ""
           },
           "bgcolor": "#E5ECF6",
           "caxis": {
            "gridcolor": "white",
            "linecolor": "white",
            "ticks": ""
           }
          },
          "title": {
           "x": 0.05
          },
          "xaxis": {
           "automargin": true,
           "gridcolor": "white",
           "linecolor": "white",
           "ticks": "",
           "title": {
            "standoff": 15
           },
           "zerolinecolor": "white",
           "zerolinewidth": 2
          },
          "yaxis": {
           "automargin": true,
           "gridcolor": "white",
           "linecolor": "white",
           "ticks": "",
           "title": {
            "standoff": 15
           },
           "zerolinecolor": "white",
           "zerolinewidth": 2
          }
         }
        },
        "xaxis": {
         "anchor": "y",
         "autorange": true,
         "domain": [
          0,
          1
         ],
         "range": [
          -0.5,
          9.5
         ],
         "title": {
          "text": "subreddit_name"
         },
         "type": "category"
        },
        "yaxis": {
         "anchor": "x",
         "autorange": true,
         "domain": [
          0,
          1
         ],
         "range": [
          0,
          296845.2631578947
         ],
         "title": {
          "text": "num_comments"
         },
         "type": "linear"
        }
       }
      },
      "image/png": "[encoded data removed]",
      "text/html": [
       "<div>                            <div id=\"f37a4b6e-7534-4b33-9f81-33a3c9872991\" class=\"plotly-graph-div\" style=\"height:525px; width:100%;\"></div>            <script type=\"text/javascript\">                require([\"plotly\"], function(Plotly) {                    window.PLOTLYENV=window.PLOTLYENV || {};                                    if (document.getElementById(\"f37a4b6e-7534-4b33-9f81-33a3c9872991\")) {                    Plotly.newPlot(                        \"f37a4b6e-7534-4b33-9f81-33a3c9872991\",                        [{\"alignmentgroup\":\"True\",\"hovertemplate\":\"subreddit_name=%{x}<br>num_comments=%{y}<extra></extra>\",\"legendgroup\":\"\",\"marker\":{\"color\":\"#636efa\",\"pattern\":{\"shape\":\"\"}},\"name\":\"\",\"offsetgroup\":\"\",\"orientation\":\"v\",\"showlegend\":false,\"textposition\":\"auto\",\"x\":[\"AskReddit\",\"worldnews\",\"place\",\"Eldenring\",\"unpopularopinion\",\"ukraine\",\"politics\",\"mildlyinfuriating\",\"Superstonk\",\"Cringetopia\"],\"xaxis\":\"x\",\"y\":[282003,126865,66880,61327,57705,56285,53313,53050,49508,48911],\"yaxis\":\"y\",\"type\":\"bar\"}],                        {\"template\":{\"data\":{\"bar\":[{\"error_x\":{\"color\":\"#2a3f5f\"},\"error_y\":{\"color\":\"#2a3f5f\"},\"marker\":{\"line\":{\"color\":\"#E5ECF6\",\"width\":0.5},\"pattern\":{\"fillmode\":\"overlay\",\"size\":10,\"solidity\":0.2}},\"type\":\"bar\"}],\"barpolar\":[{\"marker\":{\"line\":{\"color\":\"#E5ECF6\",\"width\":0.5},\"pattern\":{\"fillmode\":\"overlay\",\"size\":10,\"solidity\":0.2}},\"type\":\"barpolar\"}],\"carpet\":[{\"aaxis\":{\"endlinecolor\":\"#2a3f5f\",\"gridcolor\":\"white\",\"linecolor\":\"white\",\"minorgridcolor\":\"white\",\"startlinecolor\":\"#2a3f5f\"},\"baxis\":{\"endlinecolor\":\"#2a3f5f\",\"gridcolor\":\"white\",\"linecolor\":\"white\",\"minorgridcolor\":\"white\",\"startlinecolor\":\"#2a3f5f\"},\"type\":\"carpet\"}],\"choropleth\":[{\"colorbar\":{\"outlinewidth\":0,\"ticks\":\"\"},\"type\":\"choropleth\"}],\"contour\":[{\"colorbar\":{\"outlinewidth\":0,\"ticks\":\"\"},\"colorscale\":[[0.0,\"#0d0887\"],[0.1111111111111111,\"#46039f\"],[0.2222222222222222,\"#7201a8\"],[0.3333333333333333,\"#9c179e\"],[0.4444444444444444,\"#bd3786\"],[0.5555555555555556,\"#d8576b\"],[0.6666666666666666,\"#ed7953\"],[0.7777777777777778,\"#fb9f3a\"],[0.8888888888888888,\"#fdca26\"],[1.0,\"#f0f921\"]],\"type\":\"contour\"}],\"contourcarpet\":[{\"colorbar\":{\"outlinewidth\":0,\"ticks\":\"\"},\"type\":\"contourcarpet\"}],\"heatmap\":[{\"colorbar\":{\"outlinewidth\":0,\"ticks\":\"\"},\"colorscale\":[[0.0,\"#0d0887\"],[0.1111111111111111,\"#46039f\"],[0.2222222222222222,\"#7201a8\"],[0.3333333333333333,\"#9c179e\"],[0.4444444444444444,\"#bd3786\"],[0.5555555555555556,\"#d8576b\"],[0.6666666666666666,\"#ed7953\"],[0.7777777777777778,\"#fb9f3a\"],[0.8888888888888888,\"#fdca26\"],[1.0,\"#f0f921\"]],\"type\":\"heatmap\"}],\"heatmapgl\":[{\"colorbar\":{\"outlinewidth\":0,\"ticks\":\"\"},\"colorscale\":[[0.0,\"#0d0887\"],[0.1111111111111111,\"#46039f\"],[0.2222222222222222,\"#7201a8\"],[0.3333333333333333,\"#9c179e\"],[0.4444444444444444,\"#bd3786\"],[0.5555555555555556,\"#d8576b\"],[0.6666666666666666,\"#ed7953\"],[0.7777777777777778,\"#fb9f3a\"],[0.8888888888888888,\"#fdca26\"],[1.0,\"#f0f921\"]],\"type\":\"heatmapgl\"}],\"histogram\":[{\"marker\":{\"pattern\":{\"fillmode\":\"overlay\",\"size\":10,\"solidity\":0.2}},\"type\":\"histogram\"}],\"histogram2d\":[{\"colorbar\":{\"outlinewidth\":0,\"ticks\":\"\"},\"colorscale\":[[0.0,\"#0d0887\"],[0.1111111111111111,\"#46039f\"],[0.2222222222222222,\"#7201a8\"],[0.3333333333333333,\"#9c179e\"],[0.4444444444444444,\"#bd3786\"],[0.5555555555555556,\"#d8576b\"],[0.6666666666666666,\"#ed7953\"],[0.7777777777777778,\"#fb9f3a\"],[0.8888888888888888,\"#fdca26\"],[1.0,\"#f0f921\"]],\"type\":\"histogram2d\"}],\"histogram2dcontour\":[{\"colorbar\":{\"outlinewidth\":0,\"ticks\":\"\"},\"colorscale\":[[0.0,\"#0d0887\"],[0.1111111111111111,\"#46039f\"],[0.2222222222222222,\"#7201a8\"],[0.3333333333333333,\"#9c179e\"],[0.4444444444444444,\"#bd3786\"],[0.5555555555555556,\"#d8576b\"],[0.6666666666666666,\"#ed7953\"],[0.7777777777777778,\"#fb9f3a\"],[0.8888888888888888,\"#fdca26\"],[1.0,\"#f0f921\"]],\"type\":\"histogram2dcontour\"}],\"mesh3d\":[{\"colorbar\":{\"outlinewidth\":0,\"ticks\":\"\"},\"type\":\"mesh3d\"}],\"parcoords\":[{\"line\":{\"colorbar\":{\"outlinewidth\":0,\"ticks\":\"\"}},\"type\":\"parcoords\"}],\"pie\":[{\"automargin\":true,\"type\":\"pie\"}],\"scatter\":[{\"marker\":{\"colorbar\":{\"outlinewidth\":0,\"ticks\":\"\"}},\"type\":\"scatter\"}],\"scatter3d\":[{\"line\":{\"colorbar\":{\"outlinewidth\":0,\"ticks\":\"\"}},\"marker\":{\"colorbar\":{\"outlinewidth\":0,\"ticks\":\"\"}},\"type\":\"scatter3d\"}],\"scattercarpet\":[{\"marker\":{\"colorbar\":{\"outlinewidth\":0,\"ticks\":\"\"}},\"type\":\"scattercarpet\"}],\"scattergeo\":[{\"marker\":{\"colorbar\":{\"outlinewidth\":0,\"ticks\":\"\"}},\"type\":\"scattergeo\"}],\"scattergl\":[{\"marker\":{\"colorbar\":{\"outlinewidth\":0,\"ticks\":\"\"}},\"type\":\"scattergl\"}],\"scattermapbox\":[{\"marker\":{\"colorbar\":{\"outlinewidth\":0,\"ticks\":\"\"}},\"type\":\"scattermapbox\"}],\"scatterpolar\":[{\"marker\":{\"colorbar\":{\"outlinewidth\":0,\"ticks\":\"\"}},\"type\":\"scatterpolar\"}],\"scatterpolargl\":[{\"marker\":{\"colorbar\":{\"outlinewidth\":0,\"ticks\":\"\"}},\"type\":\"scatterpolargl\"}],\"scatterternary\":[{\"marker\":{\"colorbar\":{\"outlinewidth\":0,\"ticks\":\"\"}},\"type\":\"scatterternary\"}],\"surface\":[{\"colorbar\":{\"outlinewidth\":0,\"ticks\":\"\"},\"colorscale\":[[0.0,\"#0d0887\"],[0.1111111111111111,\"#46039f\"],[0.2222222222222222,\"#7201a8\"],[0.3333333333333333,\"#9c179e\"],[0.4444444444444444,\"#bd3786\"],[0.5555555555555556,\"#d8576b\"],[0.6666666666666666,\"#ed7953\"],[0.7777777777777778,\"#fb9f3a\"],[0.8888888888888888,\"#fdca26\"],[1.0,\"#f0f921\"]],\"type\":\"surface\"}],\"table\":[{\"cells\":{\"fill\":{\"color\":\"#EBF0F8\"},\"line\":{\"color\":\"white\"}},\"header\":{\"fill\":{\"color\":\"#C8D4E3\"},\"line\":{\"color\":\"white\"}},\"type\":\"table\"}]},\"layout\":{\"annotationdefaults\":{\"arrowcolor\":\"#2a3f5f\",\"arrowhead\":0,\"arrowwidth\":1},\"autotypenumbers\":\"strict\",\"coloraxis\":{\"colorbar\":{\"outlinewidth\":0,\"ticks\":\"\"}},\"colorscale\":{\"diverging\":[[0,\"#8e0152\"],[0.1,\"#c51b7d\"],[0.2,\"#de77ae\"],[0.3,\"#f1b6da\"],[0.4,\"#fde0ef\"],[0.5,\"#f7f7f7\"],[0.6,\"#e6f5d0\"],[0.7,\"#b8e186\"],[0.8,\"#7fbc41\"],[0.9,\"#4d9221\"],[1,\"#276419\"]],\"sequential\":[[0.0,\"#0d0887\"],[0.1111111111111111,\"#46039f\"],[0.2222222222222222,\"#7201a8\"],[0.3333333333333333,\"#9c179e\"],[0.4444444444444444,\"#bd3786\"],[0.5555555555555556,\"#d8576b\"],[0.6666666666666666,\"#ed7953\"],[0.7777777777777778,\"#fb9f3a\"],[0.8888888888888888,\"#fdca26\"],[1.0,\"#f0f921\"]],\"sequentialminus\":[[0.0,\"#0d0887\"],[0.1111111111111111,\"#46039f\"],[0.2222222222222222,\"#7201a8\"],[0.3333333333333333,\"#9c179e\"],[0.4444444444444444,\"#bd3786\"],[0.5555555555555556,\"#d8576b\"],[0.6666666666666666,\"#ed7953\"],[0.7777777777777778,\"#fb9f3a\"],[0.8888888888888888,\"#fdca26\"],[1.0,\"#f0f921\"]]},\"colorway\":[\"#636efa\",\"#EF553B\",\"#00cc96\",\"#ab63fa\",\"#FFA15A\",\"#19d3f3\",\"#FF6692\",\"#B6E880\",\"#FF97FF\",\"#FECB52\"],\"font\":{\"color\":\"#2a3f5f\"},\"geo\":{\"bgcolor\":\"white\",\"lakecolor\":\"white\",\"landcolor\":\"#E5ECF6\",\"showlakes\":true,\"showland\":true,\"subunitcolor\":\"white\"},\"hoverlabel\":{\"align\":\"left\"},\"hovermode\":\"closest\",\"mapbox\":{\"style\":\"light\"},\"paper_bgcolor\":\"white\",\"plot_bgcolor\":\"#E5ECF6\",\"polar\":{\"angularaxis\":{\"gridcolor\":\"white\",\"linecolor\":\"white\",\"ticks\":\"\"},\"bgcolor\":\"#E5ECF6\",\"radialaxis\":{\"gridcolor\":\"white\",\"linecolor\":\"white\",\"ticks\":\"\"}},\"scene\":{\"xaxis\":{\"backgroundcolor\":\"#E5ECF6\",\"gridcolor\":\"white\",\"gridwidth\":2,\"linecolor\":\"white\",\"showbackground\":true,\"ticks\":\"\",\"zerolinecolor\":\"white\"},\"yaxis\":{\"backgroundcolor\":\"#E5ECF6\",\"gridcolor\":\"white\",\"gridwidth\":2,\"linecolor\":\"white\",\"showbackground\":true,\"ticks\":\"\",\"zerolinecolor\":\"white\"},\"zaxis\":{\"backgroundcolor\":\"#E5ECF6\",\"gridcolor\":\"white\",\"gridwidth\":2,\"linecolor\":\"white\",\"showbackground\":true,\"ticks\":\"\",\"zerolinecolor\":\"white\"}},\"shapedefaults\":{\"line\":{\"color\":\"#2a3f5f\"}},\"ternary\":{\"aaxis\":{\"gridcolor\":\"white\",\"linecolor\":\"white\",\"ticks\":\"\"},\"baxis\":{\"gridcolor\":\"white\",\"linecolor\":\"white\",\"ticks\":\"\"},\"bgcolor\":\"#E5ECF6\",\"caxis\":{\"gridcolor\":\"white\",\"linecolor\":\"white\",\"ticks\":\"\"}},\"title\":{\"x\":0.05},\"xaxis\":{\"automargin\":true,\"gridcolor\":\"white\",\"linecolor\":\"white\",\"ticks\":\"\",\"title\":{\"standoff\":15},\"zerolinecolor\":\"white\",\"zerolinewidth\":2},\"yaxis\":{\"automargin\":true,\"gridcolor\":\"white\",\"linecolor\":\"white\",\"ticks\":\"\",\"title\":{\"standoff\":15},\"zerolinecolor\":\"white\",\"zerolinewidth\":2}}},\"xaxis\":{\"anchor\":\"y\",\"domain\":[0.0,1.0],\"title\":{\"text\":\"subreddit_name\"}},\"yaxis\":{\"anchor\":\"x\",\"domain\":[0.0,1.0],\"title\":{\"text\":\"num_comments\"}},\"legend\":{\"tracegroupgap\":0},\"margin\":{\"t\":60},\"barmode\":\"relative\"},                        {\"responsive\": true}                    ).then(function(){\n",
       "                            \n",
       "var gd = document.getElementById('f37a4b6e-7534-4b33-9f81-33a3c9872991');\n",
       "var x = new MutationObserver(function (mutations, observer) {{\n",
       "        var display = window.getComputedStyle(gd).display;\n",
       "        if (!display || display === 'none') {{\n",
       "            console.log([gd, 'removed!']);\n",
       "            Plotly.purge(gd);\n",
       "            observer.disconnect();\n",
       "        }}\n",
       "}});\n",
       "\n",
       "// Listen for the removal of the full notebook cells\n",
       "var notebookContainer = gd.closest('#notebook-container');\n",
       "if (notebookContainer) {{\n",
       "    x.observe(notebookContainer, {childList: true});\n",
       "}}\n",
       "\n",
       "// Listen for the clearing of the current output cell\n",
       "var outputEl = gd.closest('.output');\n",
       "if (outputEl) {{\n",
       "    x.observe(outputEl, {childList: true});\n",
       "}}\n",
       "\n",
       "                        })                };                });            </script>        </div>"
      ]
     },
     "metadata": {},
     "output_type": "display_data"
    }
   ],
   "source": [
    "#this query looks for the subreddits that have the most comments in them\n",
    "import pandas as pd\n",
    "import plotly.express as px\n",
    "topsubs = conn.runInstalledQuery(\"MostEngagingSubreddits\")\n",
    "newresult3 = topsubs[0]['TopSubreddits']\n",
    "subsDataframe = pd.DataFrame(newresult3)\n",
    "myDict = {}\n",
    "for i in subsDataframe.index: \n",
    "    myDict[subsDataframe['v_id'][i]] = {\n",
    "        'subreddit_name': subsDataframe['v_id'][i],\n",
    "        'num_comments': subsDataframe['attributes'][i]['@comments']\n",
    "    }\n",
    "dfsubreddits = pd.DataFrame.from_dict(myDict, orient='index')\n",
    "\n",
    "fig = px.bar(dfsubreddits, x='subreddit_name', y='num_comments')\n",
    "fig.show()"
   ]
  },
  {
   "cell_type": "code",
   "execution_count": 19,
   "id": "4e90a53c-4fe2-4fc5-9805-8d985f9b25bd",
   "metadata": {},
   "outputs": [
    {
     "data": {
      "text/html": [
       "<div>\n",
       "<style scoped>\n",
       "    .dataframe tbody tr th:only-of-type {\n",
       "        vertical-align: middle;\n",
       "    }\n",
       "\n",
       "    .dataframe tbody tr th {\n",
       "        vertical-align: top;\n",
       "    }\n",
       "\n",
       "    .dataframe thead th {\n",
       "        text-align: right;\n",
       "    }\n",
       "</style>\n",
       "<table border=\"1\" class=\"dataframe\">\n",
       "  <thead>\n",
       "    <tr style=\"text-align: right;\">\n",
       "      <th></th>\n",
       "      <th>authorname</th>\n",
       "      <th>numposts</th>\n",
       "    </tr>\n",
       "  </thead>\n",
       "  <tbody>\n",
       "    <tr>\n",
       "      <th>AutoNewspaperAdmin</th>\n",
       "      <td>AutoNewspaperAdmin</td>\n",
       "      <td>100</td>\n",
       "    </tr>\n",
       "    <tr>\n",
       "      <th>ShortAlgo</th>\n",
       "      <td>ShortAlgo</td>\n",
       "      <td>79</td>\n",
       "    </tr>\n",
       "    <tr>\n",
       "      <th>AutoModerator</th>\n",
       "      <td>AutoModerator</td>\n",
       "      <td>64</td>\n",
       "    </tr>\n",
       "    <tr>\n",
       "      <th>RLCD-Bot</th>\n",
       "      <td>RLCD-Bot</td>\n",
       "      <td>60</td>\n",
       "    </tr>\n",
       "    <tr>\n",
       "      <th>crytoloover</th>\n",
       "      <td>crytoloover</td>\n",
       "      <td>52</td>\n",
       "    </tr>\n",
       "    <tr>\n",
       "      <th>No_Opening_6901</th>\n",
       "      <td>No_Opening_6901</td>\n",
       "      <td>50</td>\n",
       "    </tr>\n",
       "    <tr>\n",
       "      <th>Deal-Haggler</th>\n",
       "      <td>Deal-Haggler</td>\n",
       "      <td>42</td>\n",
       "    </tr>\n",
       "    <tr>\n",
       "      <th>#NAME?</th>\n",
       "      <td>#NAME?</td>\n",
       "      <td>38</td>\n",
       "    </tr>\n",
       "    <tr>\n",
       "      <th>-en-</th>\n",
       "      <td>-en-</td>\n",
       "      <td>38</td>\n",
       "    </tr>\n",
       "    <tr>\n",
       "      <th>PhantomTutors</th>\n",
       "      <td>PhantomTutors</td>\n",
       "      <td>36</td>\n",
       "    </tr>\n",
       "  </tbody>\n",
       "</table>\n",
       "</div>"
      ],
      "text/plain": [
       "                            authorname  numposts\n",
       "AutoNewspaperAdmin  AutoNewspaperAdmin       100\n",
       "ShortAlgo                    ShortAlgo        79\n",
       "AutoModerator            AutoModerator        64\n",
       "RLCD-Bot                      RLCD-Bot        60\n",
       "crytoloover                crytoloover        52\n",
       "No_Opening_6901        No_Opening_6901        50\n",
       "Deal-Haggler              Deal-Haggler        42\n",
       "#NAME?                          #NAME?        38\n",
       "-en-                              -en-        38\n",
       "PhantomTutors            PhantomTutors        36"
      ]
     },
     "execution_count": 19,
     "metadata": {},
     "output_type": "execute_result"
    }
   ],
   "source": [
    "##this query looks for the users who have posted the most in all of the subreddits\n",
    "import pandas as pd\n",
    "import plotly.express as px\n",
    "\n",
    "prolificAuthors = conn.runInstalledQuery(\"AuthorMostPosts\")\n",
    "newresult = prolificAuthors[0]['Author']\n",
    "authorDataframe = pd.DataFrame(newresult)\n",
    "myDict = {}\n",
    "#iterate through and populate the attributes stored from the installed query\n",
    "for i in authorDataframe.index: \n",
    "    myDict[authorDataframe['v_id'][i]] = {\n",
    "        'authorname': authorDataframe['v_id'][i],\n",
    "        'numposts': authorDataframe['attributes'][i]['@pubNum'],\n",
    "    }  \n",
    "dfauthors = pd.DataFrame.from_dict(myDict, orient='index')\n",
    "dfauthors   \n",
    "#fig = px.bar(dfsubreddits, x='authorname', y='numposts')\n",
    "#fig.show()"
   ]
  },
  {
   "cell_type": "code",
   "execution_count": null,
   "id": "29b92842-ae57-46f1-9f56-dba891030f6e",
   "metadata": {},
   "outputs": [],
   "source": []
  }
 ],
 "metadata": {
  "kernelspec": {
   "display_name": "Python 3 (ipykernel)",
   "language": "python",
   "name": "python3"
  },
  "language_info": {
   "codemirror_mode": {
    "name": "ipython",
    "version": 3
   },
   "file_extension": ".py",
   "mimetype": "text/x-python",
   "name": "python",
   "nbconvert_exporter": "python",
   "pygments_lexer": "ipython3",
   "version": "3.9.10"
  }
 },
 "nbformat": 4,
 "nbformat_minor": 5
}
