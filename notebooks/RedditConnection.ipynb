{
 "cells": [
  {
   "cell_type": "markdown",
   "id": "21544007-e311-4cd7-893e-033520377adc",
   "metadata": {},
   "source": [
    "# Damie Brooks Tiger Graph 4 All Challenge\n",
    "\n",
    "This workbook will connect to the Tiger Graph Cloud database.\n",
    "Following the calls, we will connect to the database and query for the best suggested Post, Subreddit, or Author that might foster critical thinking.\n",
    "Most calls begin with assuming the end user is looking at a given post, and we may look up based on that Post or the User who wrote it.\n",
    "For simplicity sake, we have selected 3 top most controversial posts listed on Reddit in the last month. \n",
    "\n",
    "This example utilizes Similarity algorithms and Natural Language Processing to add semantic meeting and look for perspectives that may be different.\n",
    "This model can be applied to any User Generated Content such as social media posts on Twitter or reviews on a product website."
   ]
  },
  {
   "cell_type": "markdown",
   "id": "12cf4f7f-e25b-4ae5-ac2f-d75c188d9b0c",
   "metadata": {},
   "source": [
    "# 1) Initialization"
   ]
  },
  {
   "cell_type": "markdown",
   "id": "833b1ad6-a093-4b8c-a90c-e7accdbeb200",
   "metadata": {},
   "source": [
    "__To get started, we will authenticate into the TigerGraph solution__"
   ]
  },
  {
   "cell_type": "code",
   "execution_count": 6,
   "id": "766b9a6e-9a84-4dcd-a4fb-f961ea68df71",
   "metadata": {},
   "outputs": [],
   "source": [
    "#authentication with a token is required to call installed and interpreted queries\n",
    "import pyTigerGraph as tg \n",
    "import cfg\n",
    "server = 'https://dbrooks.i.tgcloud.io'\n",
    "graphname = 'RedditTest'\n",
    "\n",
    "cfg.token = tg.TigerGraphConnection(host=server, graphname=graphname).getToken(cfg.secret, setToken=True, lifetime=None)[0]\n",
    "conn = tg.TigerGraphConnection(host=server, graphname=graphname, password=cfg.password, apiToken=cfg.token)\n"
   ]
  },
  {
   "cell_type": "markdown",
   "id": "00c172f7-e37f-40e7-b001-1eb5f0b4ca93",
   "metadata": {},
   "source": [
    "__Let's understand the schema__"
   ]
  },
  {
   "cell_type": "code",
   "execution_count": null,
   "id": "97e683b3-12e3-43cf-88ac-f284b2ab0886",
   "metadata": {},
   "outputs": [],
   "source": [
    "#this returns the name of the vertex types\n",
    "conn.getVertexTypes()"
   ]
  },
  {
   "cell_type": "code",
   "execution_count": 3,
   "id": "a15c8ddb-ff3f-4cb7-9442-705722d4a878",
   "metadata": {},
   "outputs": [
    {
     "data": {
      "text/plain": [
       "{'Config': {'TAGGABLE': False,\n",
       "  'STATS': 'OUTDEGREE_BY_EDGETYPE',\n",
       "  'PRIMARY_ID_AS_ATTRIBUTE': True},\n",
       " 'Attributes': [{'AttributeType': {'Name': 'STRING'},\n",
       "   'IsPartOfCompositeKey': False,\n",
       "   'PrimaryIdAsAttribute': False,\n",
       "   'AttributeName': 'url',\n",
       "   'HasIndex': False,\n",
       "   'internalAttribute': False,\n",
       "   'IsPrimaryKey': False},\n",
       "  {'AttributeType': {'Name': 'STRING'},\n",
       "   'IsPartOfCompositeKey': False,\n",
       "   'PrimaryIdAsAttribute': False,\n",
       "   'AttributeName': 'bodymood',\n",
       "   'HasIndex': False,\n",
       "   'internalAttribute': False,\n",
       "   'IsPrimaryKey': False},\n",
       "  {'AttributeType': {'Name': 'STRING'},\n",
       "   'IsPartOfCompositeKey': False,\n",
       "   'PrimaryIdAsAttribute': False,\n",
       "   'AttributeName': 'body',\n",
       "   'HasIndex': False,\n",
       "   'internalAttribute': False,\n",
       "   'IsPrimaryKey': False},\n",
       "  {'AttributeType': {'Name': 'STRING'},\n",
       "   'IsPartOfCompositeKey': False,\n",
       "   'PrimaryIdAsAttribute': False,\n",
       "   'AttributeName': 'headline',\n",
       "   'HasIndex': False,\n",
       "   'internalAttribute': False,\n",
       "   'IsPrimaryKey': False}],\n",
       " 'PrimaryId': {'AttributeType': {'Name': 'STRING'},\n",
       "  'IsPartOfCompositeKey': False,\n",
       "  'PrimaryIdAsAttribute': True,\n",
       "  'AttributeName': 'listingid',\n",
       "  'HasIndex': False,\n",
       "  'internalAttribute': False,\n",
       "  'IsPrimaryKey': False},\n",
       " 'Name': 'Post'}"
      ]
     },
     "execution_count": 3,
     "metadata": {},
     "output_type": "execute_result"
    }
   ],
   "source": [
    "#tells us more about the attributes within the vertex Post\n",
    "conn.getVertexType('Post')"
   ]
  },
  {
   "cell_type": "markdown",
   "id": "36699ee8-9c80-447d-a43d-d764767bca1d",
   "metadata": {},
   "source": [
    "# 2) Get available listing_ids"
   ]
  },
  {
   "cell_type": "markdown",
   "id": "311e5a2a-4ae8-49dd-9636-364611c7aa3a",
   "metadata": {},
   "source": [
    "_Recommendation Queries in section 3) ask for a given listing id. You can retrieve sample listing ids to use in these following queries._"
   ]
  },
  {
   "cell_type": "markdown",
   "id": "ea4d622d-bd54-437e-b8b0-fd018ce22e70",
   "metadata": {},
   "source": [
    "__Top Listing_ids for like War subreddit__"
   ]
  },
  {
   "cell_type": "code",
   "execution_count": 21,
   "id": "f279faaa-477c-4056-b13a-8560ebc0fd6d",
   "metadata": {},
   "outputs": [
    {
     "data": {
      "text/html": [
       "<div>\n",
       "<style scoped>\n",
       "    .dataframe tbody tr th:only-of-type {\n",
       "        vertical-align: middle;\n",
       "    }\n",
       "\n",
       "    .dataframe tbody tr th {\n",
       "        vertical-align: top;\n",
       "    }\n",
       "\n",
       "    .dataframe thead th {\n",
       "        text-align: right;\n",
       "    }\n",
       "</style>\n",
       "<table border=\"1\" class=\"dataframe\">\n",
       "  <thead>\n",
       "    <tr style=\"text-align: right;\">\n",
       "      <th></th>\n",
       "      <th>listingid</th>\n",
       "    </tr>\n",
       "  </thead>\n",
       "  <tbody>\n",
       "    <tr>\n",
       "      <th>CenterofDonetskhitbytochkaUrocket_UkraineWarVideoReport</th>\n",
       "      <td>CenterofDonetskhitbytochkaUrocket_UkraineWarVi...</td>\n",
       "    </tr>\n",
       "    <tr>\n",
       "      <th>ElonMuskchallengesPutintoafightoverUkraine_UkraineWarVideoReport</th>\n",
       "      <td>ElonMuskchallengesPutintoafightoverUkraine_Ukr...</td>\n",
       "    </tr>\n",
       "    <tr>\n",
       "      <th>FrenchactivistPierreAvnerbrokeintothevillaofPutinsdaughterAltaMiraintheFrenchcityofBiarritzchangedthelocksandannouncedthatthevillawasreadytoacceptUkrainianrefugees_UkraineWarVideoReport</th>\n",
       "      <td>FrenchactivistPierreAvnerbrokeintothevillaofPu...</td>\n",
       "    </tr>\n",
       "    <tr>\n",
       "      <th>LooterinKharkiv_UkraineWarVideoReport</th>\n",
       "      <td>LooterinKharkiv_UkraineWarVideoReport</td>\n",
       "    </tr>\n",
       "    <tr>\n",
       "      <th>OrkshavenipplesTheonlyactivefunctionnippleshaveislactationIforkshavedevelopednipplesitmustbeforproducingmilkUnderatleastsomecircumstancesitmustbepossibletomilkanorkDiscuss_Warhammer40k</th>\n",
       "      <td>OrkshavenipplesTheonlyactivefunctionnippleshav...</td>\n",
       "    </tr>\n",
       "    <tr>\n",
       "      <th>PleaseStopBringingBackDeadCharacters_StarWars</th>\n",
       "      <td>PleaseStopBringingBackDeadCharacters_StarWars</td>\n",
       "    </tr>\n",
       "    <tr>\n",
       "      <th>Su25wasabletoreachthebaseafterbeinghitbyaMANPADSmissile_UkraineWarVideoReport</th>\n",
       "      <td>Su25wasabletoreachthebaseafterbeinghitbyaMANPA...</td>\n",
       "    </tr>\n",
       "    <tr>\n",
       "      <th>TheBookofBobaFettwasfineAndthatsokay_StarWars</th>\n",
       "      <td>TheBookofBobaFettwasfineAndthatsokay_StarWars</td>\n",
       "    </tr>\n",
       "    <tr>\n",
       "      <th>ThereactionofaverageRussianyoungpeopletothemeresightofaUkrainianwsubsfromrRussiaUkraineWar2022_UkraineWarVideoReport</th>\n",
       "      <td>ThereactionofaverageRussianyoungpeopletothemer...</td>\n",
       "    </tr>\n",
       "    <tr>\n",
       "      <th>YoudontmissVerdansk_CODWarzone</th>\n",
       "      <td>YoudontmissVerdansk_CODWarzone</td>\n",
       "    </tr>\n",
       "  </tbody>\n",
       "</table>\n",
       "</div>"
      ],
      "text/plain": [
       "                                                                                            listingid\n",
       "CenterofDonetskhitbytochkaUrocket_UkraineWarVid...  CenterofDonetskhitbytochkaUrocket_UkraineWarVi...\n",
       "ElonMuskchallengesPutintoafightoverUkraine_Ukra...  ElonMuskchallengesPutintoafightoverUkraine_Ukr...\n",
       "FrenchactivistPierreAvnerbrokeintothevillaofPut...  FrenchactivistPierreAvnerbrokeintothevillaofPu...\n",
       "LooterinKharkiv_UkraineWarVideoReport                           LooterinKharkiv_UkraineWarVideoReport\n",
       "OrkshavenipplesTheonlyactivefunctionnippleshave...  OrkshavenipplesTheonlyactivefunctionnippleshav...\n",
       "PleaseStopBringingBackDeadCharacters_StarWars           PleaseStopBringingBackDeadCharacters_StarWars\n",
       "Su25wasabletoreachthebaseafterbeinghitbyaMANPAD...  Su25wasabletoreachthebaseafterbeinghitbyaMANPA...\n",
       "TheBookofBobaFettwasfineAndthatsokay_StarWars           TheBookofBobaFettwasfineAndthatsokay_StarWars\n",
       "ThereactionofaverageRussianyoungpeopletothemere...  ThereactionofaverageRussianyoungpeopletothemer...\n",
       "YoudontmissVerdansk_CODWarzone                                         YoudontmissVerdansk_CODWarzone"
      ]
     },
     "execution_count": 21,
     "metadata": {},
     "output_type": "execute_result"
    }
   ],
   "source": [
    "import pandas as pd\n",
    "topwarlistings = conn.runInstalledQuery(\"TopListingIDsInSubWar\")\n",
    "newresult3 = topwarlistings[0]['ListingIDs']\n",
    "newresult3\n",
    "mydataframe = pd.DataFrame(newresult3)\n",
    "myDict = {}\n",
    "#iterate through and populate the attributes stored from the installed query\n",
    "for i in mydataframe.index: \n",
    "    myDict[mydataframe['v_id'][i]] = {\n",
    "        'listingid': mydataframe['v_id'][i],\n",
    "    }   \n",
    "#topwarlistings\n",
    "df = pd.DataFrame.from_dict(myDict, orient='index')\n",
    "df"
   ]
  },
  {
   "cell_type": "markdown",
   "id": "17cc229c-eadd-4e78-91c1-196cd498fc9a",
   "metadata": {},
   "source": [
    "__Top Listing_ids for like \"Crypto\" subreddit__"
   ]
  },
  {
   "cell_type": "code",
   "execution_count": 23,
   "id": "3f5c9f18-c48f-47cc-9a30-680844e77699",
   "metadata": {},
   "outputs": [
    {
     "data": {
      "text/plain": [
       "[{'ListingIDs': [{'v_id': 'EveryonewasfordecentralisationuntilRussiawantedtosellGasforbitcoinnowpeoplearoundthissubarecryingaboutitwithcommentslikeIwouldratherlosemoneyandthepricetanksthanRussiamakingmoneyfromBitcoin_CryptoCurrency',\n",
       "    'v_type': 'Post',\n",
       "    'attributes': {'listingid': 'EveryonewasfordecentralisationuntilRussiawantedtosellGasforbitcoinnowpeoplearoundthissubarecryingaboutitwithcommentslikeIwouldratherlosemoneyandthepricetanksthanRussiamakingmoneyfromBitcoin_CryptoCurrency',\n",
       "     'url': '/r/CryptoCurrency/comments/tniwhf/everyone_was_for_decentralisation_until_russia/',\n",
       "     'bodymood': 'Negative',\n",
       "     'body': 'First of all  as someone from a third world country that s been sanctioned  all sanctions do is bring a famine to a country   Looking at Syria  Venezuela  etc  All those thinking they sit on a moral high ground calling for the hunger of millions of people are disgusting double standard subhumans that have no empathy for their fellow human  I ve seen people dying of hunger in the streets and guess what   The governments are still strong and standing cause this isn t a fairy tail where the good side always wins Double standard cause the US have done far worse than this in literally every war they financed and or were directly involved with  yet if anyone mentions this they re accused of being Putin apologists I can t fathom how cruel some people can get and calling for the hunger of a whole nation because of the actions of their fucked up dictator   Do you  americans  think that you  your families and tour children deserve to suffer and famined because of your government s actions in the middle east  Latin America and around the world   Do you  Fuck every single government  Power to the people You don t understand the basics of decentralisation  it s NOT hooray decentralisation unless some with a different belief system is using it  God I hate this sub lately Edit   I mentioned the US doing far worse to point out that the American people DON T deserve living in a famine for their government s actions  same like the Russian people or any other nation s people for that matter  Not because I m pro dictatorship like people are accusing me of  but I think I won t defend myself anymore cause some people are so agenda oriented and so blind to the truth even if you hit them in the face with it  and will always see anyone who speaks out against the state media points as  Puting apologist  or  pro dictator  or whatever new trendy name is used for public shaming anyone who thinks outside the flock',\n",
       "     'headline': 'Everyone was for decentralisation until Russia wanted to sell Gas for bitcoin  now people around this sub are crying about it with comments like  I would rather lose money and the price tanks than Russia making money from Bitcoin ',\n",
       "     '@engScore': 1992}},\n",
       "   {'v_id': 'IdgafImleavingmycoinsonanexchangewhereitisinsuredToomanyscamsouttherethatevencryptovetsarefallingfor_CryptoCurrency',\n",
       "    'v_type': 'Post',\n",
       "    'attributes': {'listingid': 'IdgafImleavingmycoinsonanexchangewhereitisinsuredToomanyscamsouttherethatevencryptovetsarefallingfor_CryptoCurrency',\n",
       "     'url': '/r/CryptoCurrency/comments/tvmtda/idgaf_im_leaving_my_coins_on_an_exchange_where_it/',\n",
       "     'bodymood': 'Negative',\n",
       "     'body': 'Last night several threads warned about Trezor phishing scam and almost on cue  today I read a post by 7 year crypto veteran that he fell for it and lost everything  about  72 000 in Bitcoin It can happen to anyone  You re tired  arguing with your gf  distracted  etc  nobody is perfect  He lost everything  I can t afford that  Shit gives me nightmares I ve been intending to buy a Trezor for some time now  but I keep hesitating  I ve been so nervous about the whole thing  What if I lose my seed phrase  I live n NYC  someone breaks into my apartment  a fire  collapse  etc  call me paranoid Now that Coinbase One offers insurance  I m not even going to worry about cold storage  I sleep better this way  I don t care about all the  not your keys not your coins  arguments  I have a legally enforceable contract with Coinbase now that I pay for True  it s price is kinda steep at  30 a month  but to me it s worth it  It comes with no trading fees which sweetens the pie  Also comes with  priority  customer support  which I tested and only had to wait 2 minutes before I was speaking to a live agent So yeah  fuck that  I m just too paranoid  If US gov ever looks like it s on the verge of collapse  then yeah  I might put it in cold storage before I bounce out of the country  Until them I rest easy with my coins insured on an exchange Let the hate begin amp x200B EDIT 2  As mentioned  I live in NY  Only CB and Gemini are available here  Kraken and CDC and Binance are not available in NY   I know that CDC also offers insurance up to  250K and they don t charge for it so long as you use 2FA and whitelisting   amp x200B EDIT 1  Here is a link to the Coinbase Insurance T amp C for those who have been asking for it https www coinbase com legal user agreement united states coinbase one https www coinbase com legal user agreement united states coinbase one amp x200B ',\n",
       "     'headline': 'Idgaf  I m leaving my coins on an exchange where it is insured  Too many scams out there that even crypto vets are falling for ',\n",
       "     '@engScore': 1559}},\n",
       "   {'v_id': 'IunderestimatedCryptoReddit_CryptoCurrency',\n",
       "    'v_type': 'Post',\n",
       "    'attributes': {'listingid': 'IunderestimatedCryptoReddit_CryptoCurrency',\n",
       "     'url': '/r/CryptoCurrency/comments/sw0y2d/i_underestimated_crypto_reddit/',\n",
       "     'bodymood': 'Negative',\n",
       "     'body': '  This subreddit  and frankly reddit  and the people who come on reddit  are too anti libertarian  too anti cypher punk  too anti convoy  and too pro KYC  you make mental gymnastics that cannot be sustained coherently with crypto  it endangers the industry and the intended point of the technology  such government powers will absolutely be used on you in the future by your political opponents  only a fool would get rid of due process and allow this type of financial surveillance  but of course 20 year old progressives are predictably fools Punk 6529 made a post on twitter that got 20 000 upvotes about why the precedent Trudeau is setting is completely dangerous and unsustainable  and he did it without being bias towards the truckers  I deeply underestimated how progressive crypto reddit is  The core developers  core exchange CEO  and entire fintwitter and crypto twitter are drastically more conservative and libertarian than this  and virtually all of the infrastructure they have built is to attempt to slow down the government  any government for that matter from behaving the way in which Trudeau is now doing   amp x200B yet here I see 600 comments on a thread with 1200 upvotes by someone going  Hey maybe Banks having this power is a bad idea    600 comments defending KYC  defending CeFi  defending Pfizer  defending Ciphertrace  amp  Chainanalysis  amp  Elliptic  and defending Banks engaging in this behavior  and your willingness to trust the administrative state to not backdoor your crypto without due process  despite you literally defending the abrogation of due process  It makes me sick to my stomach   amp x200B The intention of crypto was Monero  and specifically the separation of state and money  not to recreate Web 2 on chain  with thought crimes and Black Mirror surveillance like China  on chain  not for your stupid pumpanomics  not for your willingness to comply with these insanely censorious regulations that merely recreate the entire SWIFT system and US Sanctions Regime onchain  which they by the way use to do extremely imperialist  racist things on the regular  You people are utter fools ',\n",
       "     'headline': 'I underestimated Crypto Reddit',\n",
       "     '@engScore': 1346}},\n",
       "   {'v_id': 'CardanoFUDnolongerhasanyteeth_CryptoCurrency',\n",
       "    'v_type': 'Post',\n",
       "    'attributes': {'listingid': 'CardanoFUDnolongerhasanyteeth_CryptoCurrency',\n",
       "     'url': '/r/CryptoCurrency/comments/tmqduc/cardano_fud_no_longer_has_any_teeth/',\n",
       "     'bodymood': 'Negative',\n",
       "     'body': 'Cardano haters seem to be running out of ammunition   For context  the FUD has been extremely bad at times  and without justification    However with every planned and well executed technical upgrade of the Cardano project  a little more of the Cardano haters arsenal has evaporated It seems the only thing they have  to try and steer new users away from Cardano is some attacks on Charles Hoskinson   While this could have some impact for the school yard oriented mindset  any savvy person  who knows whats what isn t going to pay it much attention   A decentralized block chain project is not one person  and Cardano is mighty decentralized So Im calling it  Cardano haters have failed  the project goes from strength to strength  and the noise from the edges will continue to quieten ',\n",
       "     'headline': 'Cardano FUD no longer has any teeth',\n",
       "     '@engScore': 805}},\n",
       "   {'v_id': 'Beenbuyingbitcoineverymonthforalmost45years_CryptoCurrency',\n",
       "    'v_type': 'Post',\n",
       "    'attributes': {'listingid': 'Beenbuyingbitcoineverymonthforalmost45years_CryptoCurrency',\n",
       "     'url': '/r/CryptoCurrency/comments/tdthqw/been_buying_bitcoin_every_month_for_almost_45/',\n",
       "     'bodymood': 'Positive',\n",
       "     'body': '',\n",
       "     'headline': 'Been buying bitcoin every month for almost 4 5 years',\n",
       "     '@engScore': 645}},\n",
       "   {'v_id': 'AbandonyourshitcoinsatthenextBTCATH_CryptoCurrency',\n",
       "    'v_type': 'Post',\n",
       "    'attributes': {'listingid': 'AbandonyourshitcoinsatthenextBTCATH_CryptoCurrency',\n",
       "     'url': '/r/CryptoCurrency/comments/trtmxz/abandon_your_shitcoins_at_the_next_btc_ath/',\n",
       "     'bodymood': 'Positive',\n",
       "     'body': 'NFA but when you think about it in detail the chance that crypto moon shot gets you where you want to go is unlikely  Sure there might be one or two that rocket and makes your dreams come true  It can happen but its like going to the casino and hitting a jackpot  The sure ling term bets are Bitcoin and Eth  Not saying nothing else can make you money or that its hopeless  I am saying that if you have been sitting on some shitcoin for a bit specially if you bought at ATH that coin is likely to be totally  dependent on Bitcoin   ETH and global market cap   I have a few shitcoins I just don t ever want to see in my portfolio again and can t wait to trade for BTC and or ETH  Yes I understand my profits will be less when crypto goes parabolic  My BTC   ETH earnings might be less than if I held a shitcoin but the longevity and legitimacy aspect of the power coins will give me peace of mind   Yes we d all like the crypto moon shot but I m going to move safe going forward  Just my 2 cents',\n",
       "     'headline': 'Abandon your shitcoins at the next BTC ATH ',\n",
       "     '@engScore': 539}},\n",
       "   {'v_id': 'IworkedforacryptostartupfortwomonthsItwashorrible_CryptoCurrency',\n",
       "    'v_type': 'Post',\n",
       "    'attributes': {'listingid': 'IworkedforacryptostartupfortwomonthsItwashorrible_CryptoCurrency',\n",
       "     'url': '/r/CryptoCurrency/comments/teq4rx/i_worked_for_a_crypto_startup_for_two_months_it/',\n",
       "     'bodymood': 'Negative',\n",
       "     'body': '',\n",
       "     'headline': 'I worked for a crypto start up for two months  It was horrible ',\n",
       "     '@engScore': 404}},\n",
       "   {'v_id': 'TheworldshouldcutRussiaofffromSWIFTandcryptobycuttinginternetaccessCantturntocryptoiftheycantaccesstheinternet_CryptoCurrency',\n",
       "    'v_type': 'Post',\n",
       "    'attributes': {'listingid': 'TheworldshouldcutRussiaofffromSWIFTandcryptobycuttinginternetaccessCantturntocryptoiftheycantaccesstheinternet_CryptoCurrency',\n",
       "     'url': '/r/CryptoCurrency/comments/t049ia/the_world_should_cut_russia_off_from_swift_and/',\n",
       "     'bodymood': 'Negative',\n",
       "     'body': 'Putin seems totally unhinged to pursue this war that no other nation supports   It s horrifying that this madman has control over such a massive cache of nuclear weapons   Doing nothing and allowing them to simply take Ukraine with no repercussions would set a terrible precedent signaling to any authoritarian government that they can simply attack and take sovereign nations at will Russia needs to be sanctioned extremely hard by every major country via non combat techniques lest we risk all out global conflict and potentially nuclear war   If we cut them off from international trade and SWIFT  they might turn to crypto   But if we cut them off from accessing the internet with the rest of the world then we can also cut them off from crypto ',\n",
       "     'headline': 'The world should cut Russia off from SWIFT and crypto by cutting internet access  Can t turn to crypto if they can t access the internet ',\n",
       "     '@engScore': 394}},\n",
       "   {'v_id': 'Alienscouldinvadeustomorrowandpeoplewouldstillmainlyworryabouthowitdaffectcrypto_CryptoCurrency',\n",
       "    'v_type': 'Post',\n",
       "    'attributes': {'listingid': 'Alienscouldinvadeustomorrowandpeoplewouldstillmainlyworryabouthowitdaffectcrypto_CryptoCurrency',\n",
       "     'url': '/r/CryptoCurrency/comments/te29wu/aliens_could_invade_us_tomorrow_and_people_would/',\n",
       "     'bodymood': 'Negative',\n",
       "     'body': '',\n",
       "     'headline': 'Aliens could invade us tomorrow and people would still mainly worry about how it d affect crypto ',\n",
       "     '@engScore': 390}},\n",
       "   {'v_id': 'Imtiredofloosingmoney_CryptoCurrency',\n",
       "    'v_type': 'Post',\n",
       "    'attributes': {'listingid': 'Imtiredofloosingmoney_CryptoCurrency',\n",
       "     'url': '/r/CryptoCurrency/comments/teog61/im_tired_of_loosing_money/',\n",
       "     'bodymood': 'Positive',\n",
       "     'body': 'Hi  I m 21 and I m student of engineering The first time I read about cryptocurrency was like 2 5 years ago  at the beginning I thought  like everyone  I could make some good money and more time I was spending looking at the charts more I was excited  However  after a year  I wasn t satisfied of the results of my investments so I just changed every coin with USDT and I started studying by myself how leverage trading worked  Despite the fact that I feel more confident every trade I do I just keep losing my fucking money  The number of profitable trades done is too low with respect to losses   Since I understood that all the markets are being fucking manipulated by whales I firstly tried to follow the waves  I thought I obtained enough knowledge to exploit their movements  however the daily charts are unpredictable and most of my positions were sold in losses  They know how to manipulate your emotions  how to introduce fear in your body and you can do nothing to avoid it  When you perceive this feeling you understand how the Crypto environment it s crazy  Or maybe I m just overthinking about it   At the moment I ve lost like 80  of the budget I put in the wallets and I m thinking crypto trading is not worth it  I think that if I just used those money to enjoy my life I was surely happier  it was just a fucking waste of time and money  I just want to quit  find a real job and live my life    I want to know if there is someone else in my situation',\n",
       "     'headline': 'I m tired of loosing money',\n",
       "     '@engScore': 369}}]}]"
      ]
     },
     "execution_count": 23,
     "metadata": {},
     "output_type": "execute_result"
    }
   ],
   "source": [
    "topcryptolistings = conn.runInstalledQuery(\"TopListingIDsInSubCrypto\")\n",
    "topcryptolistings"
   ]
  },
  {
   "cell_type": "markdown",
   "id": "08d42498-6ca5-486f-b705-2fd6761a05c5",
   "metadata": {},
   "source": [
    "__Top Listing_ids for Antiwork subreddit__"
   ]
  },
  {
   "cell_type": "code",
   "execution_count": 24,
   "id": "df5803a3-c1d3-4725-aa01-a2722bd9fac8",
   "metadata": {},
   "outputs": [
    {
     "data": {
      "text/plain": [
       "[{'ListingIDs': [{'v_id': 'Reminderifyoureantiwokeyoureantiworker_antiwork',\n",
       "    'v_type': 'Post',\n",
       "    'attributes': {'listingid': 'Reminderifyoureantiwokeyoureantiworker_antiwork',\n",
       "     'url': '/r/antiwork/comments/tp02kt/reminder_if_youre_antiwoke_youre_antiworker/',\n",
       "     'bodymood': 'Positive',\n",
       "     'body': 'Trans rights are workers  rights Women s rights are workers  rights BIPOC rights are workers  rights Social justice is justice for workers ',\n",
       "     'headline': 'Reminder  if you re  anti woke  you re anti worker ',\n",
       "     '@engScore': 3884}},\n",
       "   {'v_id': 'WomenshouldbegivenPTOforheavyperiodsDoyouagree_antiwork',\n",
       "    'v_type': 'Post',\n",
       "    'attributes': {'listingid': 'WomenshouldbegivenPTOforheavyperiodsDoyouagree_antiwork',\n",
       "     'url': '/r/antiwork/comments/tk8lzi/women_should_be_given_pto_for_heavy_periods_do/',\n",
       "     'bodymood': 'Negative',\n",
       "     'body': 'I feel like  women  people with a uterus should be given PTO for heavy and or especially painful periods  It s so painful sometimes and it feels like all of the energy has been sapped from your body  Not to mention the desperate trips to the gross public bathroom and having to deal with the mess of emptying a cup or changing tampons without proper privacy  you have to leave the stall to clean your messy hands and the cup or just not clean the cup at all I m curious to hear your opinions on this  Do you think uterus bearing people should be granted PTO or some other accommodating during troublesome periods Edit  Jesus Christ this blew up  Thank you so much for the awards  In lieu of any more purchased awards please donate to a reputable Ukraine humanitarian effort I m glad we re having an open discussion here  Let s keep an open mind while we do Edit2  Some of y all are so full of anger and hatred that you try to personally attack random people on the internet instead of having a respectful and productive discussion  I m not going to respond to comments trying to bait me into an argument anymore  Share your opinion and be respectful or gtfo ',\n",
       "     'headline': 'Women should be given PTO for heavy periods  Do you agree ',\n",
       "     '@engScore': 3617}},\n",
       "   {'v_id': 'AtextconversationIhadthedayIwassupposedtogosignnewhirepaperwork_antiwork',\n",
       "    'v_type': 'Post',\n",
       "    'attributes': {'listingid': 'AtextconversationIhadthedayIwassupposedtogosignnewhirepaperwork_antiwork',\n",
       "     'url': '/r/antiwork/comments/tvp9a9/a_text_conversation_i_had_the_day_i_was_supposed/',\n",
       "     'bodymood': 'Neutral',\n",
       "     'body': '',\n",
       "     'headline': 'A text conversation I had the day I was supposed to go sign new hire paperwork ',\n",
       "     '@engScore': 3553}},\n",
       "   {'v_id': 'MinimumWageShouldBe5580perhour_antiwork',\n",
       "    'v_type': 'Post',\n",
       "    'attributes': {'listingid': 'MinimumWageShouldBe5580perhour_antiwork',\n",
       "     'url': '/r/antiwork/comments/t4c6a8/minimum_wage_should_be_5580_per_hour/',\n",
       "     'bodymood': 'Neutral',\n",
       "     'body': '',\n",
       "     'headline': 'Minimum Wage Should Be  55 80 per hour',\n",
       "     '@engScore': 2565}},\n",
       "   {'v_id': 'Howdoallofyouamericansdealwithit_antiwork',\n",
       "    'v_type': 'Post',\n",
       "    'attributes': {'listingid': 'Howdoallofyouamericansdealwithit_antiwork',\n",
       "     'url': '/r/antiwork/comments/tdgpy7/how_do_all_of_you_americans_deal_with_it/',\n",
       "     'bodymood': 'Positive',\n",
       "     'body': '',\n",
       "     'headline': 'How do all of you americans deal with it ',\n",
       "     '@engScore': 2272}},\n",
       "   {'v_id': 'PSAYOURCOWORKERSARENOTYOURFRIENDS_antiwork',\n",
       "    'v_type': 'Post',\n",
       "    'attributes': {'listingid': 'PSAYOURCOWORKERSARENOTYOURFRIENDS_antiwork',\n",
       "     'url': '/r/antiwork/comments/tcoqqw/psa_your_coworkers_are_not_your_friends/',\n",
       "     'bodymood': 'Positive',\n",
       "     'body': 'This is just a reminder to anyone on here that YOUR COWORKERS ARE NOT YOUR FRIENDS  Do not share any personal information about your life  family  friends outside of work  side hustles  etc  with them  and DEFINITELY DO NOT add them on any type of social media  especially managers  The moment I start a new job anywhere I immediately look up everyone I work with and block them on all platforms and block the company as well  If they ask  tell them you do not have social media  Also DO NOT put your full name on social media and make sure that you uncheck in the settings within the apps where it asks if it can connect your contacts  or that you can be looked up my email or phone number  Obviously this is just advice  do what you want  but just be cautious Edit  okay wow  thanks everyone for your input  The  PSA  was probably a bad title  but I didn t think I was writing the 11th commandment with this post that was supposed to relate to every single person in the world  It was written in haste and annoyance at the levels that people can go to get others fired that I see on this sub every single day  You should ALWAYS be friendly to everyone  I never said you shouldn t  so no idea where that s coming from in these comments   DOUBLE thanks to everyone who has made accusations about my mental health and the state of my life  working environment and that I m apparently lonely and sad  Lol  I m glad you all have never had a single bad experience and your lives are perfect and you trust everyone  Sorry we can t all be main characters that can t imagine that anyone else has had a different experience than them ',\n",
       "     'headline': 'PSA  YOUR COWORKERS ARE NOT YOUR FRIENDS ',\n",
       "     '@engScore': 2030}},\n",
       "   {'v_id': 'GotpermissionfrommygirlfriendtopostherresponsetoherinsanemanagerMorecontextincomments_antiwork',\n",
       "    'v_type': 'Post',\n",
       "    'attributes': {'listingid': 'GotpermissionfrommygirlfriendtopostherresponsetoherinsanemanagerMorecontextincomments_antiwork',\n",
       "     'url': '/r/antiwork/comments/tvp3wf/got_permission_from_my_girlfriend_to_post_her/',\n",
       "     'bodymood': 'Neutral',\n",
       "     'body': '',\n",
       "     'headline': 'Got permission from my girlfriend to post her response to her insane manager  More context in comments',\n",
       "     '@engScore': 1490}},\n",
       "   {'v_id': 'IlostmyleginanaccidentatworkandtodayIwasexpectingmysettlement_antiwork',\n",
       "    'v_type': 'Post',\n",
       "    'attributes': {'listingid': 'IlostmyleginanaccidentatworkandtodayIwasexpectingmysettlement_antiwork',\n",
       "     'url': '/r/antiwork/comments/teg9nu/i_lost_my_leg_in_an_accident_at_work_and_today_i/',\n",
       "     'bodymood': 'Negative',\n",
       "     'body': '',\n",
       "     'headline': 'I lost my leg in an accident at work and today I was expecting my settlement ',\n",
       "     '@engScore': 1330}},\n",
       "   {'v_id': 'TheRealQuestion_antiwork',\n",
       "    'v_type': 'Post',\n",
       "    'attributes': {'listingid': 'TheRealQuestion_antiwork',\n",
       "     'url': '/r/antiwork/comments/telfx7/the_real_question/',\n",
       "     'bodymood': 'Neutral',\n",
       "     'body': '',\n",
       "     'headline': 'The Real Question ',\n",
       "     '@engScore': 1222}},\n",
       "   {'v_id': 'IsthisdoodseriousLOL_antiwork',\n",
       "    'v_type': 'Post',\n",
       "    'attributes': {'listingid': 'IsthisdoodseriousLOL_antiwork',\n",
       "     'url': '/r/antiwork/comments/tvzrn9/is_this_dood_serious_lol/',\n",
       "     'bodymood': 'Neutral',\n",
       "     'body': '',\n",
       "     'headline': 'Is this dood serious  LOL',\n",
       "     '@engScore': 1136}}]}]"
      ]
     },
     "execution_count": 24,
     "metadata": {},
     "output_type": "execute_result"
    }
   ],
   "source": [
    "topantiworklistings = conn.runInstalledQuery(\"TopListingIDsInSubAntiwork\")\n",
    "topantiworklistings"
   ]
  },
  {
   "cell_type": "markdown",
   "id": "551293b7-bfdf-4328-b22e-64f567ebd8d3",
   "metadata": {},
   "source": [
    "# 3) Recommendation Queries"
   ]
  },
  {
   "cell_type": "markdown",
   "id": "f5e9ecb0-53d4-434c-90cc-784a8ad9c372",
   "metadata": {},
   "source": [
    "__Let's begin querying the database__"
   ]
  },
  {
   "cell_type": "code",
   "execution_count": 3,
   "id": "17cd90d4-c24e-4c01-8954-b0db58fa4547",
   "metadata": {},
   "outputs": [
    {
     "data": {
      "text/html": [
       "<div>\n",
       "<style scoped>\n",
       "    .dataframe tbody tr th:only-of-type {\n",
       "        vertical-align: middle;\n",
       "    }\n",
       "\n",
       "    .dataframe tbody tr th {\n",
       "        vertical-align: top;\n",
       "    }\n",
       "\n",
       "    .dataframe thead th {\n",
       "        text-align: right;\n",
       "    }\n",
       "</style>\n",
       "<table border=\"1\" class=\"dataframe\">\n",
       "  <thead>\n",
       "    <tr style=\"text-align: right;\">\n",
       "      <th></th>\n",
       "      <th>listingid</th>\n",
       "      <th>url</th>\n",
       "      <th>headline</th>\n",
       "    </tr>\n",
       "  </thead>\n",
       "  <tbody>\n",
       "    <tr>\n",
       "      <th>EveryonewasfordecentralisationuntilRussiawantedtosellGasforbitcoinnowpeoplearoundthissubarecryingaboutitwithcommentslikeIwouldratherlosemoneyandthepricetanksthanRussiamakingmoneyfromBitcoin_CryptoCurrency</th>\n",
       "      <td>EveryonewasfordecentralisationuntilRussiawante...</td>\n",
       "      <td>/r/CryptoCurrency/comments/tniwhf/everyone_was...</td>\n",
       "      <td>Everyone was for decentralisation until Russia...</td>\n",
       "    </tr>\n",
       "    <tr>\n",
       "      <th>IunderestimatedCryptoReddit_CryptoCurrency</th>\n",
       "      <td>IunderestimatedCryptoReddit_CryptoCurrency</td>\n",
       "      <td>/r/CryptoCurrency/comments/sw0y2d/i_underestim...</td>\n",
       "      <td>I underestimated Crypto Reddit</td>\n",
       "    </tr>\n",
       "    <tr>\n",
       "      <th>CardanoFUDnolongerhasanyteeth_CryptoCurrency</th>\n",
       "      <td>CardanoFUDnolongerhasanyteeth_CryptoCurrency</td>\n",
       "      <td>/r/CryptoCurrency/comments/tmqduc/cardano_fud_...</td>\n",
       "      <td>Cardano FUD no longer has any teeth</td>\n",
       "    </tr>\n",
       "    <tr>\n",
       "      <th>AbandonyourshitcoinsatthenextBTCATH_CryptoCurrency</th>\n",
       "      <td>AbandonyourshitcoinsatthenextBTCATH_CryptoCurr...</td>\n",
       "      <td>/r/CryptoCurrency/comments/trtmxz/abandon_your...</td>\n",
       "      <td>Abandon your shitcoins at the next BTC ATH</td>\n",
       "    </tr>\n",
       "    <tr>\n",
       "      <th>TheworldshouldcutRussiaofffromSWIFTandcryptobycuttinginternetaccessCantturntocryptoiftheycantaccesstheinternet_CryptoCurrency</th>\n",
       "      <td>TheworldshouldcutRussiaofffromSWIFTandcryptoby...</td>\n",
       "      <td>/r/CryptoCurrency/comments/t049ia/the_world_sh...</td>\n",
       "      <td>The world should cut Russia off from SWIFT and...</td>\n",
       "    </tr>\n",
       "  </tbody>\n",
       "</table>\n",
       "</div>"
      ],
      "text/plain": [
       "                                                                                            listingid  \\\n",
       "EveryonewasfordecentralisationuntilRussiawanted...  EveryonewasfordecentralisationuntilRussiawante...   \n",
       "IunderestimatedCryptoReddit_CryptoCurrency                 IunderestimatedCryptoReddit_CryptoCurrency   \n",
       "CardanoFUDnolongerhasanyteeth_CryptoCurrency             CardanoFUDnolongerhasanyteeth_CryptoCurrency   \n",
       "AbandonyourshitcoinsatthenextBTCATH_CryptoCurrency  AbandonyourshitcoinsatthenextBTCATH_CryptoCurr...   \n",
       "TheworldshouldcutRussiaofffromSWIFTandcryptobyc...  TheworldshouldcutRussiaofffromSWIFTandcryptoby...   \n",
       "\n",
       "                                                                                                  url  \\\n",
       "EveryonewasfordecentralisationuntilRussiawanted...  /r/CryptoCurrency/comments/tniwhf/everyone_was...   \n",
       "IunderestimatedCryptoReddit_CryptoCurrency          /r/CryptoCurrency/comments/sw0y2d/i_underestim...   \n",
       "CardanoFUDnolongerhasanyteeth_CryptoCurrency        /r/CryptoCurrency/comments/tmqduc/cardano_fud_...   \n",
       "AbandonyourshitcoinsatthenextBTCATH_CryptoCurrency  /r/CryptoCurrency/comments/trtmxz/abandon_your...   \n",
       "TheworldshouldcutRussiaofffromSWIFTandcryptobyc...  /r/CryptoCurrency/comments/t049ia/the_world_sh...   \n",
       "\n",
       "                                                                                             headline  \n",
       "EveryonewasfordecentralisationuntilRussiawanted...  Everyone was for decentralisation until Russia...  \n",
       "IunderestimatedCryptoReddit_CryptoCurrency                             I underestimated Crypto Reddit  \n",
       "CardanoFUDnolongerhasanyteeth_CryptoCurrency                      Cardano FUD no longer has any teeth  \n",
       "AbandonyourshitcoinsatthenextBTCATH_CryptoCurrency        Abandon your shitcoins at the next BTC ATH   \n",
       "TheworldshouldcutRussiaofffromSWIFTandcryptobyc...  The world should cut Russia off from SWIFT and...  "
      ]
     },
     "execution_count": 3,
     "metadata": {},
     "output_type": "execute_result"
    }
   ],
   "source": [
    "##given a specific post by listingid, this query looks for top engaging posts similar to that post but polarizing to the reddit community\n",
    "import pandas as pd\n",
    "controversialperspective = conn.runInstalledQuery(\"Q1controversial\", {\"p\":\"IdgafImleavingmycoinsonanexchangewhereitisinsuredToomanyscamsouttherethatevencryptovetsarefallingfor_CryptoCurrency\"})\n",
    "controversialperspective[0]\n",
    "newresult3 = controversialperspective[0]['TopPolarizing']\n",
    "polsDataframe = pd.DataFrame(newresult3)\n",
    "myDict = {}\n",
    "#iterate through and populate the attributes stored from the installed query\n",
    "for i in polsDataframe.index: \n",
    "    myDict[polsDataframe['v_id'][i]] = {\n",
    "        'listingid': polsDataframe['v_id'][i],\n",
    "        #'attributes': polsDataframe['attributes'][i],\n",
    "        'url': polsDataframe['attributes'][i]['url'],\n",
    "        'headline': polsDataframe['attributes'][i]['headline']\n",
    "    }   \n",
    "#we can use this set of results to display in our app for alternative views\n",
    "df = pd.DataFrame.from_dict(myDict, orient='index')\n",
    "df"
   ]
  },
  {
   "cell_type": "code",
   "execution_count": 4,
   "id": "2f9e1c3a-3015-4067-b6a7-6d4189f270ba",
   "metadata": {},
   "outputs": [
    {
     "data": {
      "text/html": [
       "<div>\n",
       "<style scoped>\n",
       "    .dataframe tbody tr th:only-of-type {\n",
       "        vertical-align: middle;\n",
       "    }\n",
       "\n",
       "    .dataframe tbody tr th {\n",
       "        vertical-align: top;\n",
       "    }\n",
       "\n",
       "    .dataframe thead th {\n",
       "        text-align: right;\n",
       "    }\n",
       "</style>\n",
       "<table border=\"1\" class=\"dataframe\">\n",
       "  <thead>\n",
       "    <tr style=\"text-align: right;\">\n",
       "      <th></th>\n",
       "      <th>listingid</th>\n",
       "      <th>attributes</th>\n",
       "    </tr>\n",
       "  </thead>\n",
       "  <tbody>\n",
       "    <tr>\n",
       "      <th>DailyDiscussionMarch212022GMT0_CryptoCurrency</th>\n",
       "      <td>DailyDiscussionMarch212022GMT0_CryptoCurrency</td>\n",
       "      <td>{'listingid': 'DailyDiscussionMarch212022GMT0_...</td>\n",
       "    </tr>\n",
       "    <tr>\n",
       "      <th>MyfirstdipincryptoAnytipsandtricksIshouldlookoutfor_CryptoCurrency</th>\n",
       "      <td>MyfirstdipincryptoAnytipsandtricksIshouldlooko...</td>\n",
       "      <td>{'listingid': 'MyfirstdipincryptoAnytipsandtri...</td>\n",
       "    </tr>\n",
       "    <tr>\n",
       "      <th>Howcryptoandblockchainprojectsaredrivingforwardaneweraoftech_CryptoCurrency</th>\n",
       "      <td>Howcryptoandblockchainprojectsaredrivingforwar...</td>\n",
       "      <td>{'listingid': 'Howcryptoandblockchainprojectsa...</td>\n",
       "    </tr>\n",
       "    <tr>\n",
       "      <th>NighmtarewithKraken_CryptoCurrency</th>\n",
       "      <td>NighmtarewithKraken_CryptoCurrency</td>\n",
       "      <td>{'listingid': 'NighmtarewithKraken_CryptoCurre...</td>\n",
       "    </tr>\n",
       "    <tr>\n",
       "      <th>CannewinnovativecoinsonlytrulygrowduringabullrunAndifsoisthecurrentcryptoclimatesustainable_CryptoCurrency</th>\n",
       "      <td>Cannewinnovativecoinsonlytrulygrowduringabullr...</td>\n",
       "      <td>{'listingid': 'Cannewinnovativecoinsonlytrulyg...</td>\n",
       "    </tr>\n",
       "  </tbody>\n",
       "</table>\n",
       "</div>"
      ],
      "text/plain": [
       "                                                                                            listingid  \\\n",
       "DailyDiscussionMarch212022GMT0_CryptoCurrency           DailyDiscussionMarch212022GMT0_CryptoCurrency   \n",
       "MyfirstdipincryptoAnytipsandtricksIshouldlookou...  MyfirstdipincryptoAnytipsandtricksIshouldlooko...   \n",
       "Howcryptoandblockchainprojectsaredrivingforward...  Howcryptoandblockchainprojectsaredrivingforwar...   \n",
       "NighmtarewithKraken_CryptoCurrency                                 NighmtarewithKraken_CryptoCurrency   \n",
       "Cannewinnovativecoinsonlytrulygrowduringabullru...  Cannewinnovativecoinsonlytrulygrowduringabullr...   \n",
       "\n",
       "                                                                                           attributes  \n",
       "DailyDiscussionMarch212022GMT0_CryptoCurrency       {'listingid': 'DailyDiscussionMarch212022GMT0_...  \n",
       "MyfirstdipincryptoAnytipsandtricksIshouldlookou...  {'listingid': 'MyfirstdipincryptoAnytipsandtri...  \n",
       "Howcryptoandblockchainprojectsaredrivingforward...  {'listingid': 'Howcryptoandblockchainprojectsa...  \n",
       "NighmtarewithKraken_CryptoCurrency                  {'listingid': 'NighmtarewithKraken_CryptoCurre...  \n",
       "Cannewinnovativecoinsonlytrulygrowduringabullru...  {'listingid': 'Cannewinnovativecoinsonlytrulyg...  "
      ]
     },
     "execution_count": 4,
     "metadata": {},
     "output_type": "execute_result"
    }
   ],
   "source": [
    "##given a specific post by listingid, this query looks for similar posts that are considered new \n",
    "import pandas as pd\n",
    "simNewPosts = conn.runInstalledQuery(\"Q2new\", {\"p\":\"IdgafImleavingmycoinsonanexchangewhereitisinsuredToomanyscamsouttherethatevencryptovetsarefallingfor_CryptoCurrency\"})\n",
    "#differentFeeling[0]\n",
    "#differentFeeling\n",
    "newresult2 = simNewPosts[0]['TopEngagingNew']\n",
    "simsDataframe = pd.DataFrame(newresult2)\n",
    "myDict = {}\n",
    "#iterate through and populate the attributes stored from the installed query\n",
    "for i in simsDataframe.index: \n",
    "    myDict[simsDataframe['v_id'][i]] = {\n",
    "        'listingid': simsDataframe['v_id'][i],\n",
    "        'attributes': simsDataframe['attributes'][i]\n",
    "    }\n",
    "df = pd.DataFrame.from_dict(myDict, orient='index')\n",
    "df"
   ]
  },
  {
   "cell_type": "code",
   "execution_count": 5,
   "id": "cbbc3204-c9b5-4083-b91f-478f33990c4f",
   "metadata": {
    "tags": []
   },
   "outputs": [
    {
     "data": {
      "text/html": [
       "<div>\n",
       "<style scoped>\n",
       "    .dataframe tbody tr th:only-of-type {\n",
       "        vertical-align: middle;\n",
       "    }\n",
       "\n",
       "    .dataframe tbody tr th {\n",
       "        vertical-align: top;\n",
       "    }\n",
       "\n",
       "    .dataframe thead th {\n",
       "        text-align: right;\n",
       "    }\n",
       "</style>\n",
       "<table border=\"1\" class=\"dataframe\">\n",
       "  <thead>\n",
       "    <tr style=\"text-align: right;\">\n",
       "      <th></th>\n",
       "      <th>listingid</th>\n",
       "      <th>attributes</th>\n",
       "      <th>url</th>\n",
       "      <th>headline</th>\n",
       "      <th>numcomments</th>\n",
       "      <th>sentiment</th>\n",
       "    </tr>\n",
       "  </thead>\n",
       "  <tbody>\n",
       "    <tr>\n",
       "      <th>NanoisinfacttoogoodtobetruePleasedonttellyourlovedonestobuyitBlaringsecurityflawsandotherissuesinsidethisthread_CryptoCurrency</th>\n",
       "      <td>NanoisinfacttoogoodtobetruePleasedonttellyourl...</td>\n",
       "      <td>{'listingid': 'NanoisinfacttoogoodtobetruePlea...</td>\n",
       "      <td>/r/CryptoCurrency/comments/tpdyv8/nano_is_in_f...</td>\n",
       "      <td>Nano is  in fact  too good to be true  Please ...</td>\n",
       "      <td>315</td>\n",
       "      <td>Positive</td>\n",
       "    </tr>\n",
       "    <tr>\n",
       "      <th>Whyisnoonetalkingaboutthat1DEXthatturnedoffitssmartcontractsforover48hoursforunexpectedmaintenanceandunilaterallymigrateditsusersfundstoanewsmartcontractNoneofthatshouldbepossibleonadecentralizedapp_CryptoCurrency</th>\n",
       "      <td>Whyisnoonetalkingaboutthat1DEXthatturnedoffits...</td>\n",
       "      <td>{'listingid': 'Whyisnoonetalkingaboutthat1DEXt...</td>\n",
       "      <td>/r/CryptoCurrency/comments/tmzn47/why_is_no_on...</td>\n",
       "      <td>Why is no one talking about that  1  DEX  that...</td>\n",
       "      <td>315</td>\n",
       "      <td>Positive</td>\n",
       "    </tr>\n",
       "    <tr>\n",
       "      <th>ShibaInujustannouncedcreationofitsownmetaverse_CryptoCurrency</th>\n",
       "      <td>ShibaInujustannouncedcreationofitsownmetaverse...</td>\n",
       "      <td>{'listingid': 'ShibaInujustannouncedcreationof...</td>\n",
       "      <td>/r/CryptoCurrency/comments/tsjis3/shiba_inu_ju...</td>\n",
       "      <td>Shiba Inu just announced creation of its own m...</td>\n",
       "      <td>211</td>\n",
       "      <td>Positive</td>\n",
       "    </tr>\n",
       "    <tr>\n",
       "      <th>SayingBitcoinwontdoa100xisntFUDitsjustbeingrealistic_CryptoCurrency</th>\n",
       "      <td>SayingBitcoinwontdoa100xisntFUDitsjustbeingrea...</td>\n",
       "      <td>{'listingid': 'SayingBitcoinwontdoa100xisntFUD...</td>\n",
       "      <td>/r/CryptoCurrency/comments/t92nmp/saying_bitco...</td>\n",
       "      <td>Saying  Bitcoin won t do a 100x  isnt FUD  it ...</td>\n",
       "      <td>194</td>\n",
       "      <td>Positive</td>\n",
       "    </tr>\n",
       "    <tr>\n",
       "      <th>AlexBornyakovUkrainesdeputyministerofdigitaltransformationthenationalbankisnotfullyoperatingcryptoishelpingtoperformfasttransferstomakeitveryquickandgetresultsalmostimmediatelyCryptosroleisessentialinthisconflictintermsofhelpingourarmy_CryptoCurrency</th>\n",
       "      <td>AlexBornyakovUkrainesdeputyministerofdigitaltr...</td>\n",
       "      <td>{'listingid': 'AlexBornyakovUkrainesdeputymini...</td>\n",
       "      <td>/r/CryptoCurrency/comments/tedkmi/alex_bornyak...</td>\n",
       "      <td>Alex Bornyakov  Ukraine s deputy minister of d...</td>\n",
       "      <td>144</td>\n",
       "      <td>Positive</td>\n",
       "    </tr>\n",
       "  </tbody>\n",
       "</table>\n",
       "</div>"
      ],
      "text/plain": [
       "                                                                                            listingid  \\\n",
       "NanoisinfacttoogoodtobetruePleasedonttellyourlo...  NanoisinfacttoogoodtobetruePleasedonttellyourl...   \n",
       "Whyisnoonetalkingaboutthat1DEXthatturnedoffitss...  Whyisnoonetalkingaboutthat1DEXthatturnedoffits...   \n",
       "ShibaInujustannouncedcreationofitsownmetaverse_...  ShibaInujustannouncedcreationofitsownmetaverse...   \n",
       "SayingBitcoinwontdoa100xisntFUDitsjustbeingreal...  SayingBitcoinwontdoa100xisntFUDitsjustbeingrea...   \n",
       "AlexBornyakovUkrainesdeputyministerofdigitaltra...  AlexBornyakovUkrainesdeputyministerofdigitaltr...   \n",
       "\n",
       "                                                                                           attributes  \\\n",
       "NanoisinfacttoogoodtobetruePleasedonttellyourlo...  {'listingid': 'NanoisinfacttoogoodtobetruePlea...   \n",
       "Whyisnoonetalkingaboutthat1DEXthatturnedoffitss...  {'listingid': 'Whyisnoonetalkingaboutthat1DEXt...   \n",
       "ShibaInujustannouncedcreationofitsownmetaverse_...  {'listingid': 'ShibaInujustannouncedcreationof...   \n",
       "SayingBitcoinwontdoa100xisntFUDitsjustbeingreal...  {'listingid': 'SayingBitcoinwontdoa100xisntFUD...   \n",
       "AlexBornyakovUkrainesdeputyministerofdigitaltra...  {'listingid': 'AlexBornyakovUkrainesdeputymini...   \n",
       "\n",
       "                                                                                                  url  \\\n",
       "NanoisinfacttoogoodtobetruePleasedonttellyourlo...  /r/CryptoCurrency/comments/tpdyv8/nano_is_in_f...   \n",
       "Whyisnoonetalkingaboutthat1DEXthatturnedoffitss...  /r/CryptoCurrency/comments/tmzn47/why_is_no_on...   \n",
       "ShibaInujustannouncedcreationofitsownmetaverse_...  /r/CryptoCurrency/comments/tsjis3/shiba_inu_ju...   \n",
       "SayingBitcoinwontdoa100xisntFUDitsjustbeingreal...  /r/CryptoCurrency/comments/t92nmp/saying_bitco...   \n",
       "AlexBornyakovUkrainesdeputyministerofdigitaltra...  /r/CryptoCurrency/comments/tedkmi/alex_bornyak...   \n",
       "\n",
       "                                                                                             headline  \\\n",
       "NanoisinfacttoogoodtobetruePleasedonttellyourlo...  Nano is  in fact  too good to be true  Please ...   \n",
       "Whyisnoonetalkingaboutthat1DEXthatturnedoffitss...  Why is no one talking about that  1  DEX  that...   \n",
       "ShibaInujustannouncedcreationofitsownmetaverse_...  Shiba Inu just announced creation of its own m...   \n",
       "SayingBitcoinwontdoa100xisntFUDitsjustbeingreal...  Saying  Bitcoin won t do a 100x  isnt FUD  it ...   \n",
       "AlexBornyakovUkrainesdeputyministerofdigitaltra...  Alex Bornyakov  Ukraine s deputy minister of d...   \n",
       "\n",
       "                                                    numcomments sentiment  \n",
       "NanoisinfacttoogoodtobetruePleasedonttellyourlo...          315  Positive  \n",
       "Whyisnoonetalkingaboutthat1DEXthatturnedoffitss...          315  Positive  \n",
       "ShibaInujustannouncedcreationofitsownmetaverse_...          211  Positive  \n",
       "SayingBitcoinwontdoa100xisntFUDitsjustbeingreal...          194  Positive  \n",
       "AlexBornyakovUkrainesdeputyministerofdigitaltra...          144  Positive  "
      ]
     },
     "execution_count": 5,
     "metadata": {},
     "output_type": "execute_result"
    }
   ],
   "source": [
    "##given a specific post by listingid, this query looks for top engaging posts similar to that post but have a different feeling (gauged by sentiment)\n",
    "differentFeeling = conn.runInstalledQuery(\"Q3sentiment\", {\"p\":\"IdgafImleavingmycoinsonanexchangewhereitisinsuredToomanyscamsouttherethatevencryptovetsarefallingfor_CryptoCurrency\"})\n",
    "#differentFeeling[0]\n",
    "#differentFeeling\n",
    "newresult2 = differentFeeling[0]['SimsPosts']\n",
    "simsDataframe = pd.DataFrame(newresult2)\n",
    "myDict = {}\n",
    "#iterate through and populate the attributes stored from the installed query\n",
    "for i in simsDataframe.index: \n",
    "    myDict[simsDataframe['v_id'][i]] = {\n",
    "        'listingid': simsDataframe['v_id'][i],\n",
    "        'attributes': simsDataframe['attributes'][i],\n",
    "        'url': simsDataframe['attributes'][i]['url'],\n",
    "        'headline': simsDataframe['attributes'][i]['headline'],\n",
    "        'numcomments': simsDataframe['attributes'][i]['@engagementscore'],\n",
    "        'sentiment': simsDataframe['attributes'][i]['@moodtype']\n",
    "    }   \n",
    "#we can use this set of results to display in our app for alternative views\n",
    "df = pd.DataFrame.from_dict(myDict, orient='index')\n",
    "df"
   ]
  },
  {
   "cell_type": "markdown",
   "id": "6a42b6eb-7984-4afa-a41d-5e6776bccef4",
   "metadata": {},
   "source": [
    "# 4) Analysis and Visuazlations"
   ]
  },
  {
   "cell_type": "code",
   "execution_count": 6,
   "id": "2c8fb70a-a138-40a8-959a-883ea6a356e5",
   "metadata": {},
   "outputs": [
    {
     "data": {
      "application/vnd.plotly.v1+json": {
       "config": {
        "plotlyServerURL": "https://plot.ly"
       },
       "data": [
        {
         "alignmentgroup": "True",
         "hovertemplate": "subreddit_name=%{x}<br>num_comments=%{y}<extra></extra>",
         "legendgroup": "",
         "marker": {
          "color": "#636efa",
          "pattern": {
           "shape": ""
          }
         },
         "name": "",
         "offsetgroup": "",
         "orientation": "v",
         "showlegend": false,
         "textposition": "auto",
         "type": "bar",
         "x": [
          "AskReddit",
          "worldnews",
          "place",
          "Eldenring",
          "unpopularopinion",
          "ukraine",
          "politics",
          "mildlyinfuriating",
          "Superstonk",
          "Cringetopia"
         ],
         "xaxis": "x",
         "y": [
          282003,
          126865,
          66880,
          61327,
          57705,
          56285,
          53313,
          53050,
          49508,
          48911
         ],
         "yaxis": "y"
        }
       ],
       "layout": {
        "autosize": true,
        "barmode": "relative",
        "legend": {
         "tracegroupgap": 0
        },
        "margin": {
         "t": 60
        },
        "template": {
         "data": {
          "bar": [
           {
            "error_x": {
             "color": "#2a3f5f"
            },
            "error_y": {
             "color": "#2a3f5f"
            },
            "marker": {
             "line": {
              "color": "#E5ECF6",
              "width": 0.5
             },
             "pattern": {
              "fillmode": "overlay",
              "size": 10,
              "solidity": 0.2
             }
            },
            "type": "bar"
           }
          ],
          "barpolar": [
           {
            "marker": {
             "line": {
              "color": "#E5ECF6",
              "width": 0.5
             },
             "pattern": {
              "fillmode": "overlay",
              "size": 10,
              "solidity": 0.2
             }
            },
            "type": "barpolar"
           }
          ],
          "carpet": [
           {
            "aaxis": {
             "endlinecolor": "#2a3f5f",
             "gridcolor": "white",
             "linecolor": "white",
             "minorgridcolor": "white",
             "startlinecolor": "#2a3f5f"
            },
            "baxis": {
             "endlinecolor": "#2a3f5f",
             "gridcolor": "white",
             "linecolor": "white",
             "minorgridcolor": "white",
             "startlinecolor": "#2a3f5f"
            },
            "type": "carpet"
           }
          ],
          "choropleth": [
           {
            "colorbar": {
             "outlinewidth": 0,
             "ticks": ""
            },
            "type": "choropleth"
           }
          ],
          "contour": [
           {
            "colorbar": {
             "outlinewidth": 0,
             "ticks": ""
            },
            "colorscale": [
             [
              0,
              "#0d0887"
             ],
             [
              0.1111111111111111,
              "#46039f"
             ],
             [
              0.2222222222222222,
              "#7201a8"
             ],
             [
              0.3333333333333333,
              "#9c179e"
             ],
             [
              0.4444444444444444,
              "#bd3786"
             ],
             [
              0.5555555555555556,
              "#d8576b"
             ],
             [
              0.6666666666666666,
              "#ed7953"
             ],
             [
              0.7777777777777778,
              "#fb9f3a"
             ],
             [
              0.8888888888888888,
              "#fdca26"
             ],
             [
              1,
              "#f0f921"
             ]
            ],
            "type": "contour"
           }
          ],
          "contourcarpet": [
           {
            "colorbar": {
             "outlinewidth": 0,
             "ticks": ""
            },
            "type": "contourcarpet"
           }
          ],
          "heatmap": [
           {
            "colorbar": {
             "outlinewidth": 0,
             "ticks": ""
            },
            "colorscale": [
             [
              0,
              "#0d0887"
             ],
             [
              0.1111111111111111,
              "#46039f"
             ],
             [
              0.2222222222222222,
              "#7201a8"
             ],
             [
              0.3333333333333333,
              "#9c179e"
             ],
             [
              0.4444444444444444,
              "#bd3786"
             ],
             [
              0.5555555555555556,
              "#d8576b"
             ],
             [
              0.6666666666666666,
              "#ed7953"
             ],
             [
              0.7777777777777778,
              "#fb9f3a"
             ],
             [
              0.8888888888888888,
              "#fdca26"
             ],
             [
              1,
              "#f0f921"
             ]
            ],
            "type": "heatmap"
           }
          ],
          "heatmapgl": [
           {
            "colorbar": {
             "outlinewidth": 0,
             "ticks": ""
            },
            "colorscale": [
             [
              0,
              "#0d0887"
             ],
             [
              0.1111111111111111,
              "#46039f"
             ],
             [
              0.2222222222222222,
              "#7201a8"
             ],
             [
              0.3333333333333333,
              "#9c179e"
             ],
             [
              0.4444444444444444,
              "#bd3786"
             ],
             [
              0.5555555555555556,
              "#d8576b"
             ],
             [
              0.6666666666666666,
              "#ed7953"
             ],
             [
              0.7777777777777778,
              "#fb9f3a"
             ],
             [
              0.8888888888888888,
              "#fdca26"
             ],
             [
              1,
              "#f0f921"
             ]
            ],
            "type": "heatmapgl"
           }
          ],
          "histogram": [
           {
            "marker": {
             "pattern": {
              "fillmode": "overlay",
              "size": 10,
              "solidity": 0.2
             }
            },
            "type": "histogram"
           }
          ],
          "histogram2d": [
           {
            "colorbar": {
             "outlinewidth": 0,
             "ticks": ""
            },
            "colorscale": [
             [
              0,
              "#0d0887"
             ],
             [
              0.1111111111111111,
              "#46039f"
             ],
             [
              0.2222222222222222,
              "#7201a8"
             ],
             [
              0.3333333333333333,
              "#9c179e"
             ],
             [
              0.4444444444444444,
              "#bd3786"
             ],
             [
              0.5555555555555556,
              "#d8576b"
             ],
             [
              0.6666666666666666,
              "#ed7953"
             ],
             [
              0.7777777777777778,
              "#fb9f3a"
             ],
             [
              0.8888888888888888,
              "#fdca26"
             ],
             [
              1,
              "#f0f921"
             ]
            ],
            "type": "histogram2d"
           }
          ],
          "histogram2dcontour": [
           {
            "colorbar": {
             "outlinewidth": 0,
             "ticks": ""
            },
            "colorscale": [
             [
              0,
              "#0d0887"
             ],
             [
              0.1111111111111111,
              "#46039f"
             ],
             [
              0.2222222222222222,
              "#7201a8"
             ],
             [
              0.3333333333333333,
              "#9c179e"
             ],
             [
              0.4444444444444444,
              "#bd3786"
             ],
             [
              0.5555555555555556,
              "#d8576b"
             ],
             [
              0.6666666666666666,
              "#ed7953"
             ],
             [
              0.7777777777777778,
              "#fb9f3a"
             ],
             [
              0.8888888888888888,
              "#fdca26"
             ],
             [
              1,
              "#f0f921"
             ]
            ],
            "type": "histogram2dcontour"
           }
          ],
          "mesh3d": [
           {
            "colorbar": {
             "outlinewidth": 0,
             "ticks": ""
            },
            "type": "mesh3d"
           }
          ],
          "parcoords": [
           {
            "line": {
             "colorbar": {
              "outlinewidth": 0,
              "ticks": ""
             }
            },
            "type": "parcoords"
           }
          ],
          "pie": [
           {
            "automargin": true,
            "type": "pie"
           }
          ],
          "scatter": [
           {
            "marker": {
             "colorbar": {
              "outlinewidth": 0,
              "ticks": ""
             }
            },
            "type": "scatter"
           }
          ],
          "scatter3d": [
           {
            "line": {
             "colorbar": {
              "outlinewidth": 0,
              "ticks": ""
             }
            },
            "marker": {
             "colorbar": {
              "outlinewidth": 0,
              "ticks": ""
             }
            },
            "type": "scatter3d"
           }
          ],
          "scattercarpet": [
           {
            "marker": {
             "colorbar": {
              "outlinewidth": 0,
              "ticks": ""
             }
            },
            "type": "scattercarpet"
           }
          ],
          "scattergeo": [
           {
            "marker": {
             "colorbar": {
              "outlinewidth": 0,
              "ticks": ""
             }
            },
            "type": "scattergeo"
           }
          ],
          "scattergl": [
           {
            "marker": {
             "colorbar": {
              "outlinewidth": 0,
              "ticks": ""
             }
            },
            "type": "scattergl"
           }
          ],
          "scattermapbox": [
           {
            "marker": {
             "colorbar": {
              "outlinewidth": 0,
              "ticks": ""
             }
            },
            "type": "scattermapbox"
           }
          ],
          "scatterpolar": [
           {
            "marker": {
             "colorbar": {
              "outlinewidth": 0,
              "ticks": ""
             }
            },
            "type": "scatterpolar"
           }
          ],
          "scatterpolargl": [
           {
            "marker": {
             "colorbar": {
              "outlinewidth": 0,
              "ticks": ""
             }
            },
            "type": "scatterpolargl"
           }
          ],
          "scatterternary": [
           {
            "marker": {
             "colorbar": {
              "outlinewidth": 0,
              "ticks": ""
             }
            },
            "type": "scatterternary"
           }
          ],
          "surface": [
           {
            "colorbar": {
             "outlinewidth": 0,
             "ticks": ""
            },
            "colorscale": [
             [
              0,
              "#0d0887"
             ],
             [
              0.1111111111111111,
              "#46039f"
             ],
             [
              0.2222222222222222,
              "#7201a8"
             ],
             [
              0.3333333333333333,
              "#9c179e"
             ],
             [
              0.4444444444444444,
              "#bd3786"
             ],
             [
              0.5555555555555556,
              "#d8576b"
             ],
             [
              0.6666666666666666,
              "#ed7953"
             ],
             [
              0.7777777777777778,
              "#fb9f3a"
             ],
             [
              0.8888888888888888,
              "#fdca26"
             ],
             [
              1,
              "#f0f921"
             ]
            ],
            "type": "surface"
           }
          ],
          "table": [
           {
            "cells": {
             "fill": {
              "color": "#EBF0F8"
             },
             "line": {
              "color": "white"
             }
            },
            "header": {
             "fill": {
              "color": "#C8D4E3"
             },
             "line": {
              "color": "white"
             }
            },
            "type": "table"
           }
          ]
         },
         "layout": {
          "annotationdefaults": {
           "arrowcolor": "#2a3f5f",
           "arrowhead": 0,
           "arrowwidth": 1
          },
          "autotypenumbers": "strict",
          "coloraxis": {
           "colorbar": {
            "outlinewidth": 0,
            "ticks": ""
           }
          },
          "colorscale": {
           "diverging": [
            [
             0,
             "#8e0152"
            ],
            [
             0.1,
             "#c51b7d"
            ],
            [
             0.2,
             "#de77ae"
            ],
            [
             0.3,
             "#f1b6da"
            ],
            [
             0.4,
             "#fde0ef"
            ],
            [
             0.5,
             "#f7f7f7"
            ],
            [
             0.6,
             "#e6f5d0"
            ],
            [
             0.7,
             "#b8e186"
            ],
            [
             0.8,
             "#7fbc41"
            ],
            [
             0.9,
             "#4d9221"
            ],
            [
             1,
             "#276419"
            ]
           ],
           "sequential": [
            [
             0,
             "#0d0887"
            ],
            [
             0.1111111111111111,
             "#46039f"
            ],
            [
             0.2222222222222222,
             "#7201a8"
            ],
            [
             0.3333333333333333,
             "#9c179e"
            ],
            [
             0.4444444444444444,
             "#bd3786"
            ],
            [
             0.5555555555555556,
             "#d8576b"
            ],
            [
             0.6666666666666666,
             "#ed7953"
            ],
            [
             0.7777777777777778,
             "#fb9f3a"
            ],
            [
             0.8888888888888888,
             "#fdca26"
            ],
            [
             1,
             "#f0f921"
            ]
           ],
           "sequentialminus": [
            [
             0,
             "#0d0887"
            ],
            [
             0.1111111111111111,
             "#46039f"
            ],
            [
             0.2222222222222222,
             "#7201a8"
            ],
            [
             0.3333333333333333,
             "#9c179e"
            ],
            [
             0.4444444444444444,
             "#bd3786"
            ],
            [
             0.5555555555555556,
             "#d8576b"
            ],
            [
             0.6666666666666666,
             "#ed7953"
            ],
            [
             0.7777777777777778,
             "#fb9f3a"
            ],
            [
             0.8888888888888888,
             "#fdca26"
            ],
            [
             1,
             "#f0f921"
            ]
           ]
          },
          "colorway": [
           "#636efa",
           "#EF553B",
           "#00cc96",
           "#ab63fa",
           "#FFA15A",
           "#19d3f3",
           "#FF6692",
           "#B6E880",
           "#FF97FF",
           "#FECB52"
          ],
          "font": {
           "color": "#2a3f5f"
          },
          "geo": {
           "bgcolor": "white",
           "lakecolor": "white",
           "landcolor": "#E5ECF6",
           "showlakes": true,
           "showland": true,
           "subunitcolor": "white"
          },
          "hoverlabel": {
           "align": "left"
          },
          "hovermode": "closest",
          "mapbox": {
           "style": "light"
          },
          "paper_bgcolor": "white",
          "plot_bgcolor": "#E5ECF6",
          "polar": {
           "angularaxis": {
            "gridcolor": "white",
            "linecolor": "white",
            "ticks": ""
           },
           "bgcolor": "#E5ECF6",
           "radialaxis": {
            "gridcolor": "white",
            "linecolor": "white",
            "ticks": ""
           }
          },
          "scene": {
           "xaxis": {
            "backgroundcolor": "#E5ECF6",
            "gridcolor": "white",
            "gridwidth": 2,
            "linecolor": "white",
            "showbackground": true,
            "ticks": "",
            "zerolinecolor": "white"
           },
           "yaxis": {
            "backgroundcolor": "#E5ECF6",
            "gridcolor": "white",
            "gridwidth": 2,
            "linecolor": "white",
            "showbackground": true,
            "ticks": "",
            "zerolinecolor": "white"
           },
           "zaxis": {
            "backgroundcolor": "#E5ECF6",
            "gridcolor": "white",
            "gridwidth": 2,
            "linecolor": "white",
            "showbackground": true,
            "ticks": "",
            "zerolinecolor": "white"
           }
          },
          "shapedefaults": {
           "line": {
            "color": "#2a3f5f"
           }
          },
          "ternary": {
           "aaxis": {
            "gridcolor": "white",
            "linecolor": "white",
            "ticks": ""
           },
           "baxis": {
            "gridcolor": "white",
            "linecolor": "white",
            "ticks": ""
           },
           "bgcolor": "#E5ECF6",
           "caxis": {
            "gridcolor": "white",
            "linecolor": "white",
            "ticks": ""
           }
          },
          "title": {
           "x": 0.05
          },
          "xaxis": {
           "automargin": true,
           "gridcolor": "white",
           "linecolor": "white",
           "ticks": "",
           "title": {
            "standoff": 15
           },
           "zerolinecolor": "white",
           "zerolinewidth": 2
          },
          "yaxis": {
           "automargin": true,
           "gridcolor": "white",
           "linecolor": "white",
           "ticks": "",
           "title": {
            "standoff": 15
           },
           "zerolinecolor": "white",
           "zerolinewidth": 2
          }
         }
        },
        "xaxis": {
         "anchor": "y",
         "autorange": true,
         "domain": [
          0,
          1
         ],
         "range": [
          -0.5,
          9.5
         ],
         "title": {
          "text": "subreddit_name"
         },
         "type": "category"
        },
        "yaxis": {
         "anchor": "x",
         "autorange": true,
         "domain": [
          0,
          1
         ],
         "range": [
          0,
          296845.2631578947
         ],
         "title": {
          "text": "num_comments"
         },
         "type": "linear"
        }
       }
      },
      "image/png": "[encoded data removed]",
      "text/html": [
       "<div>                            <div id=\"f37a4b6e-7534-4b33-9f81-33a3c9872991\" class=\"plotly-graph-div\" style=\"height:525px; width:100%;\"></div>            <script type=\"text/javascript\">                require([\"plotly\"], function(Plotly) {                    window.PLOTLYENV=window.PLOTLYENV || {};                                    if (document.getElementById(\"f37a4b6e-7534-4b33-9f81-33a3c9872991\")) {                    Plotly.newPlot(                        \"f37a4b6e-7534-4b33-9f81-33a3c9872991\",                        [{\"alignmentgroup\":\"True\",\"hovertemplate\":\"subreddit_name=%{x}<br>num_comments=%{y}<extra></extra>\",\"legendgroup\":\"\",\"marker\":{\"color\":\"#636efa\",\"pattern\":{\"shape\":\"\"}},\"name\":\"\",\"offsetgroup\":\"\",\"orientation\":\"v\",\"showlegend\":false,\"textposition\":\"auto\",\"x\":[\"AskReddit\",\"worldnews\",\"place\",\"Eldenring\",\"unpopularopinion\",\"ukraine\",\"politics\",\"mildlyinfuriating\",\"Superstonk\",\"Cringetopia\"],\"xaxis\":\"x\",\"y\":[282003,126865,66880,61327,57705,56285,53313,53050,49508,48911],\"yaxis\":\"y\",\"type\":\"bar\"}],                        {\"template\":{\"data\":{\"bar\":[{\"error_x\":{\"color\":\"#2a3f5f\"},\"error_y\":{\"color\":\"#2a3f5f\"},\"marker\":{\"line\":{\"color\":\"#E5ECF6\",\"width\":0.5},\"pattern\":{\"fillmode\":\"overlay\",\"size\":10,\"solidity\":0.2}},\"type\":\"bar\"}],\"barpolar\":[{\"marker\":{\"line\":{\"color\":\"#E5ECF6\",\"width\":0.5},\"pattern\":{\"fillmode\":\"overlay\",\"size\":10,\"solidity\":0.2}},\"type\":\"barpolar\"}],\"carpet\":[{\"aaxis\":{\"endlinecolor\":\"#2a3f5f\",\"gridcolor\":\"white\",\"linecolor\":\"white\",\"minorgridcolor\":\"white\",\"startlinecolor\":\"#2a3f5f\"},\"baxis\":{\"endlinecolor\":\"#2a3f5f\",\"gridcolor\":\"white\",\"linecolor\":\"white\",\"minorgridcolor\":\"white\",\"startlinecolor\":\"#2a3f5f\"},\"type\":\"carpet\"}],\"choropleth\":[{\"colorbar\":{\"outlinewidth\":0,\"ticks\":\"\"},\"type\":\"choropleth\"}],\"contour\":[{\"colorbar\":{\"outlinewidth\":0,\"ticks\":\"\"},\"colorscale\":[[0.0,\"#0d0887\"],[0.1111111111111111,\"#46039f\"],[0.2222222222222222,\"#7201a8\"],[0.3333333333333333,\"#9c179e\"],[0.4444444444444444,\"#bd3786\"],[0.5555555555555556,\"#d8576b\"],[0.6666666666666666,\"#ed7953\"],[0.7777777777777778,\"#fb9f3a\"],[0.8888888888888888,\"#fdca26\"],[1.0,\"#f0f921\"]],\"type\":\"contour\"}],\"contourcarpet\":[{\"colorbar\":{\"outlinewidth\":0,\"ticks\":\"\"},\"type\":\"contourcarpet\"}],\"heatmap\":[{\"colorbar\":{\"outlinewidth\":0,\"ticks\":\"\"},\"colorscale\":[[0.0,\"#0d0887\"],[0.1111111111111111,\"#46039f\"],[0.2222222222222222,\"#7201a8\"],[0.3333333333333333,\"#9c179e\"],[0.4444444444444444,\"#bd3786\"],[0.5555555555555556,\"#d8576b\"],[0.6666666666666666,\"#ed7953\"],[0.7777777777777778,\"#fb9f3a\"],[0.8888888888888888,\"#fdca26\"],[1.0,\"#f0f921\"]],\"type\":\"heatmap\"}],\"heatmapgl\":[{\"colorbar\":{\"outlinewidth\":0,\"ticks\":\"\"},\"colorscale\":[[0.0,\"#0d0887\"],[0.1111111111111111,\"#46039f\"],[0.2222222222222222,\"#7201a8\"],[0.3333333333333333,\"#9c179e\"],[0.4444444444444444,\"#bd3786\"],[0.5555555555555556,\"#d8576b\"],[0.6666666666666666,\"#ed7953\"],[0.7777777777777778,\"#fb9f3a\"],[0.8888888888888888,\"#fdca26\"],[1.0,\"#f0f921\"]],\"type\":\"heatmapgl\"}],\"histogram\":[{\"marker\":{\"pattern\":{\"fillmode\":\"overlay\",\"size\":10,\"solidity\":0.2}},\"type\":\"histogram\"}],\"histogram2d\":[{\"colorbar\":{\"outlinewidth\":0,\"ticks\":\"\"},\"colorscale\":[[0.0,\"#0d0887\"],[0.1111111111111111,\"#46039f\"],[0.2222222222222222,\"#7201a8\"],[0.3333333333333333,\"#9c179e\"],[0.4444444444444444,\"#bd3786\"],[0.5555555555555556,\"#d8576b\"],[0.6666666666666666,\"#ed7953\"],[0.7777777777777778,\"#fb9f3a\"],[0.8888888888888888,\"#fdca26\"],[1.0,\"#f0f921\"]],\"type\":\"histogram2d\"}],\"histogram2dcontour\":[{\"colorbar\":{\"outlinewidth\":0,\"ticks\":\"\"},\"colorscale\":[[0.0,\"#0d0887\"],[0.1111111111111111,\"#46039f\"],[0.2222222222222222,\"#7201a8\"],[0.3333333333333333,\"#9c179e\"],[0.4444444444444444,\"#bd3786\"],[0.5555555555555556,\"#d8576b\"],[0.6666666666666666,\"#ed7953\"],[0.7777777777777778,\"#fb9f3a\"],[0.8888888888888888,\"#fdca26\"],[1.0,\"#f0f921\"]],\"type\":\"histogram2dcontour\"}],\"mesh3d\":[{\"colorbar\":{\"outlinewidth\":0,\"ticks\":\"\"},\"type\":\"mesh3d\"}],\"parcoords\":[{\"line\":{\"colorbar\":{\"outlinewidth\":0,\"ticks\":\"\"}},\"type\":\"parcoords\"}],\"pie\":[{\"automargin\":true,\"type\":\"pie\"}],\"scatter\":[{\"marker\":{\"colorbar\":{\"outlinewidth\":0,\"ticks\":\"\"}},\"type\":\"scatter\"}],\"scatter3d\":[{\"line\":{\"colorbar\":{\"outlinewidth\":0,\"ticks\":\"\"}},\"marker\":{\"colorbar\":{\"outlinewidth\":0,\"ticks\":\"\"}},\"type\":\"scatter3d\"}],\"scattercarpet\":[{\"marker\":{\"colorbar\":{\"outlinewidth\":0,\"ticks\":\"\"}},\"type\":\"scattercarpet\"}],\"scattergeo\":[{\"marker\":{\"colorbar\":{\"outlinewidth\":0,\"ticks\":\"\"}},\"type\":\"scattergeo\"}],\"scattergl\":[{\"marker\":{\"colorbar\":{\"outlinewidth\":0,\"ticks\":\"\"}},\"type\":\"scattergl\"}],\"scattermapbox\":[{\"marker\":{\"colorbar\":{\"outlinewidth\":0,\"ticks\":\"\"}},\"type\":\"scattermapbox\"}],\"scatterpolar\":[{\"marker\":{\"colorbar\":{\"outlinewidth\":0,\"ticks\":\"\"}},\"type\":\"scatterpolar\"}],\"scatterpolargl\":[{\"marker\":{\"colorbar\":{\"outlinewidth\":0,\"ticks\":\"\"}},\"type\":\"scatterpolargl\"}],\"scatterternary\":[{\"marker\":{\"colorbar\":{\"outlinewidth\":0,\"ticks\":\"\"}},\"type\":\"scatterternary\"}],\"surface\":[{\"colorbar\":{\"outlinewidth\":0,\"ticks\":\"\"},\"colorscale\":[[0.0,\"#0d0887\"],[0.1111111111111111,\"#46039f\"],[0.2222222222222222,\"#7201a8\"],[0.3333333333333333,\"#9c179e\"],[0.4444444444444444,\"#bd3786\"],[0.5555555555555556,\"#d8576b\"],[0.6666666666666666,\"#ed7953\"],[0.7777777777777778,\"#fb9f3a\"],[0.8888888888888888,\"#fdca26\"],[1.0,\"#f0f921\"]],\"type\":\"surface\"}],\"table\":[{\"cells\":{\"fill\":{\"color\":\"#EBF0F8\"},\"line\":{\"color\":\"white\"}},\"header\":{\"fill\":{\"color\":\"#C8D4E3\"},\"line\":{\"color\":\"white\"}},\"type\":\"table\"}]},\"layout\":{\"annotationdefaults\":{\"arrowcolor\":\"#2a3f5f\",\"arrowhead\":0,\"arrowwidth\":1},\"autotypenumbers\":\"strict\",\"coloraxis\":{\"colorbar\":{\"outlinewidth\":0,\"ticks\":\"\"}},\"colorscale\":{\"diverging\":[[0,\"#8e0152\"],[0.1,\"#c51b7d\"],[0.2,\"#de77ae\"],[0.3,\"#f1b6da\"],[0.4,\"#fde0ef\"],[0.5,\"#f7f7f7\"],[0.6,\"#e6f5d0\"],[0.7,\"#b8e186\"],[0.8,\"#7fbc41\"],[0.9,\"#4d9221\"],[1,\"#276419\"]],\"sequential\":[[0.0,\"#0d0887\"],[0.1111111111111111,\"#46039f\"],[0.2222222222222222,\"#7201a8\"],[0.3333333333333333,\"#9c179e\"],[0.4444444444444444,\"#bd3786\"],[0.5555555555555556,\"#d8576b\"],[0.6666666666666666,\"#ed7953\"],[0.7777777777777778,\"#fb9f3a\"],[0.8888888888888888,\"#fdca26\"],[1.0,\"#f0f921\"]],\"sequentialminus\":[[0.0,\"#0d0887\"],[0.1111111111111111,\"#46039f\"],[0.2222222222222222,\"#7201a8\"],[0.3333333333333333,\"#9c179e\"],[0.4444444444444444,\"#bd3786\"],[0.5555555555555556,\"#d8576b\"],[0.6666666666666666,\"#ed7953\"],[0.7777777777777778,\"#fb9f3a\"],[0.8888888888888888,\"#fdca26\"],[1.0,\"#f0f921\"]]},\"colorway\":[\"#636efa\",\"#EF553B\",\"#00cc96\",\"#ab63fa\",\"#FFA15A\",\"#19d3f3\",\"#FF6692\",\"#B6E880\",\"#FF97FF\",\"#FECB52\"],\"font\":{\"color\":\"#2a3f5f\"},\"geo\":{\"bgcolor\":\"white\",\"lakecolor\":\"white\",\"landcolor\":\"#E5ECF6\",\"showlakes\":true,\"showland\":true,\"subunitcolor\":\"white\"},\"hoverlabel\":{\"align\":\"left\"},\"hovermode\":\"closest\",\"mapbox\":{\"style\":\"light\"},\"paper_bgcolor\":\"white\",\"plot_bgcolor\":\"#E5ECF6\",\"polar\":{\"angularaxis\":{\"gridcolor\":\"white\",\"linecolor\":\"white\",\"ticks\":\"\"},\"bgcolor\":\"#E5ECF6\",\"radialaxis\":{\"gridcolor\":\"white\",\"linecolor\":\"white\",\"ticks\":\"\"}},\"scene\":{\"xaxis\":{\"backgroundcolor\":\"#E5ECF6\",\"gridcolor\":\"white\",\"gridwidth\":2,\"linecolor\":\"white\",\"showbackground\":true,\"ticks\":\"\",\"zerolinecolor\":\"white\"},\"yaxis\":{\"backgroundcolor\":\"#E5ECF6\",\"gridcolor\":\"white\",\"gridwidth\":2,\"linecolor\":\"white\",\"showbackground\":true,\"ticks\":\"\",\"zerolinecolor\":\"white\"},\"zaxis\":{\"backgroundcolor\":\"#E5ECF6\",\"gridcolor\":\"white\",\"gridwidth\":2,\"linecolor\":\"white\",\"showbackground\":true,\"ticks\":\"\",\"zerolinecolor\":\"white\"}},\"shapedefaults\":{\"line\":{\"color\":\"#2a3f5f\"}},\"ternary\":{\"aaxis\":{\"gridcolor\":\"white\",\"linecolor\":\"white\",\"ticks\":\"\"},\"baxis\":{\"gridcolor\":\"white\",\"linecolor\":\"white\",\"ticks\":\"\"},\"bgcolor\":\"#E5ECF6\",\"caxis\":{\"gridcolor\":\"white\",\"linecolor\":\"white\",\"ticks\":\"\"}},\"title\":{\"x\":0.05},\"xaxis\":{\"automargin\":true,\"gridcolor\":\"white\",\"linecolor\":\"white\",\"ticks\":\"\",\"title\":{\"standoff\":15},\"zerolinecolor\":\"white\",\"zerolinewidth\":2},\"yaxis\":{\"automargin\":true,\"gridcolor\":\"white\",\"linecolor\":\"white\",\"ticks\":\"\",\"title\":{\"standoff\":15},\"zerolinecolor\":\"white\",\"zerolinewidth\":2}}},\"xaxis\":{\"anchor\":\"y\",\"domain\":[0.0,1.0],\"title\":{\"text\":\"subreddit_name\"}},\"yaxis\":{\"anchor\":\"x\",\"domain\":[0.0,1.0],\"title\":{\"text\":\"num_comments\"}},\"legend\":{\"tracegroupgap\":0},\"margin\":{\"t\":60},\"barmode\":\"relative\"},                        {\"responsive\": true}                    ).then(function(){\n",
       "                            \n",
       "var gd = document.getElementById('f37a4b6e-7534-4b33-9f81-33a3c9872991');\n",
       "var x = new MutationObserver(function (mutations, observer) {{\n",
       "        var display = window.getComputedStyle(gd).display;\n",
       "        if (!display || display === 'none') {{\n",
       "            console.log([gd, 'removed!']);\n",
       "            Plotly.purge(gd);\n",
       "            observer.disconnect();\n",
       "        }}\n",
       "}});\n",
       "\n",
       "// Listen for the removal of the full notebook cells\n",
       "var notebookContainer = gd.closest('#notebook-container');\n",
       "if (notebookContainer) {{\n",
       "    x.observe(notebookContainer, {childList: true});\n",
       "}}\n",
       "\n",
       "// Listen for the clearing of the current output cell\n",
       "var outputEl = gd.closest('.output');\n",
       "if (outputEl) {{\n",
       "    x.observe(outputEl, {childList: true});\n",
       "}}\n",
       "\n",
       "                        })                };                });            </script>        </div>"
      ]
     },
     "metadata": {},
     "output_type": "display_data"
    }
   ],
   "source": [
    "#this query looks for the subreddits that have the most comments in them\n",
    "import pandas as pd\n",
    "import plotly.express as px\n",
    "topsubs = conn.runInstalledQuery(\"MostEngagingSubreddits\")\n",
    "newresult3 = topsubs[0]['TopSubreddits']\n",
    "subsDataframe = pd.DataFrame(newresult3)\n",
    "myDict = {}\n",
    "for i in subsDataframe.index: \n",
    "    myDict[subsDataframe['v_id'][i]] = {\n",
    "        'subreddit_name': subsDataframe['v_id'][i],\n",
    "        'num_comments': subsDataframe['attributes'][i]['@comments']\n",
    "    }\n",
    "dfsubreddits = pd.DataFrame.from_dict(myDict, orient='index')\n",
    "\n",
    "fig = px.bar(dfsubreddits, x='subreddit_name', y='num_comments')\n",
    "fig.show()"
   ]
  },
  {
   "cell_type": "code",
   "execution_count": 19,
   "id": "4e90a53c-4fe2-4fc5-9805-8d985f9b25bd",
   "metadata": {},
   "outputs": [
    {
     "data": {
      "text/html": [
       "<div>\n",
       "<style scoped>\n",
       "    .dataframe tbody tr th:only-of-type {\n",
       "        vertical-align: middle;\n",
       "    }\n",
       "\n",
       "    .dataframe tbody tr th {\n",
       "        vertical-align: top;\n",
       "    }\n",
       "\n",
       "    .dataframe thead th {\n",
       "        text-align: right;\n",
       "    }\n",
       "</style>\n",
       "<table border=\"1\" class=\"dataframe\">\n",
       "  <thead>\n",
       "    <tr style=\"text-align: right;\">\n",
       "      <th></th>\n",
       "      <th>authorname</th>\n",
       "      <th>numposts</th>\n",
       "    </tr>\n",
       "  </thead>\n",
       "  <tbody>\n",
       "    <tr>\n",
       "      <th>AutoNewspaperAdmin</th>\n",
       "      <td>AutoNewspaperAdmin</td>\n",
       "      <td>100</td>\n",
       "    </tr>\n",
       "    <tr>\n",
       "      <th>ShortAlgo</th>\n",
       "      <td>ShortAlgo</td>\n",
       "      <td>79</td>\n",
       "    </tr>\n",
       "    <tr>\n",
       "      <th>AutoModerator</th>\n",
       "      <td>AutoModerator</td>\n",
       "      <td>64</td>\n",
       "    </tr>\n",
       "    <tr>\n",
       "      <th>RLCD-Bot</th>\n",
       "      <td>RLCD-Bot</td>\n",
       "      <td>60</td>\n",
       "    </tr>\n",
       "    <tr>\n",
       "      <th>crytoloover</th>\n",
       "      <td>crytoloover</td>\n",
       "      <td>52</td>\n",
       "    </tr>\n",
       "    <tr>\n",
       "      <th>No_Opening_6901</th>\n",
       "      <td>No_Opening_6901</td>\n",
       "      <td>50</td>\n",
       "    </tr>\n",
       "    <tr>\n",
       "      <th>Deal-Haggler</th>\n",
       "      <td>Deal-Haggler</td>\n",
       "      <td>42</td>\n",
       "    </tr>\n",
       "    <tr>\n",
       "      <th>#NAME?</th>\n",
       "      <td>#NAME?</td>\n",
       "      <td>38</td>\n",
       "    </tr>\n",
       "    <tr>\n",
       "      <th>-en-</th>\n",
       "      <td>-en-</td>\n",
       "      <td>38</td>\n",
       "    </tr>\n",
       "    <tr>\n",
       "      <th>PhantomTutors</th>\n",
       "      <td>PhantomTutors</td>\n",
       "      <td>36</td>\n",
       "    </tr>\n",
       "  </tbody>\n",
       "</table>\n",
       "</div>"
      ],
      "text/plain": [
       "                            authorname  numposts\n",
       "AutoNewspaperAdmin  AutoNewspaperAdmin       100\n",
       "ShortAlgo                    ShortAlgo        79\n",
       "AutoModerator            AutoModerator        64\n",
       "RLCD-Bot                      RLCD-Bot        60\n",
       "crytoloover                crytoloover        52\n",
       "No_Opening_6901        No_Opening_6901        50\n",
       "Deal-Haggler              Deal-Haggler        42\n",
       "#NAME?                          #NAME?        38\n",
       "-en-                              -en-        38\n",
       "PhantomTutors            PhantomTutors        36"
      ]
     },
     "execution_count": 19,
     "metadata": {},
     "output_type": "execute_result"
    }
   ],
   "source": [
    "##this query looks for the users who have posted the most in all of the subreddits\n",
    "import pandas as pd\n",
    "import plotly.express as px\n",
    "\n",
    "prolificAuthors = conn.runInstalledQuery(\"AuthorMostPosts\")\n",
    "newresult = prolificAuthors[0]['Author']\n",
    "authorDataframe = pd.DataFrame(newresult)\n",
    "myDict = {}\n",
    "#iterate through and populate the attributes stored from the installed query\n",
    "for i in authorDataframe.index: \n",
    "    myDict[authorDataframe['v_id'][i]] = {\n",
    "        'authorname': authorDataframe['v_id'][i],\n",
    "        'numposts': authorDataframe['attributes'][i]['@pubNum'],\n",
    "    }  \n",
    "dfauthors = pd.DataFrame.from_dict(myDict, orient='index')\n",
    "dfauthors   \n",
    "#fig = px.bar(dfsubreddits, x='authorname', y='numposts')\n",
    "#fig.show()"
   ]
  },
  {
   "cell_type": "code",
   "execution_count": null,
   "id": "29b92842-ae57-46f1-9f56-dba891030f6e",
   "metadata": {},
   "outputs": [],
   "source": []
  }
 ],
 "metadata": {
  "kernelspec": {
   "display_name": "Python 3 (ipykernel)",
   "language": "python",
   "name": "python3"
  },
  "language_info": {
   "codemirror_mode": {
    "name": "ipython",
    "version": 3
   },
   "file_extension": ".py",
   "mimetype": "text/x-python",
   "name": "python",
   "nbconvert_exporter": "python",
   "pygments_lexer": "ipython3",
   "version": "3.9.10"
  }
 },
 "nbformat": 4,
 "nbformat_minor": 5
}
